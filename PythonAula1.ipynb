{
  "nbformat": 4,
  "nbformat_minor": 0,
  "metadata": {
    "colab": {
      "name": "PythonAula1.ipynb",
      "provenance": [],
      "include_colab_link": true
    },
    "kernelspec": {
      "name": "python3",
      "display_name": "Python 3"
    },
    "language_info": {
      "name": "python"
    }
  },
  "cells": [
    {
      "cell_type": "markdown",
      "metadata": {
        "id": "view-in-github",
        "colab_type": "text"
      },
      "source": [
        "<a href=\"https://colab.research.google.com/github/JorgeBIMaster/BIMaster/blob/main/PythonAula1.ipynb\" target=\"_parent\"><img src=\"https://colab.research.google.com/assets/colab-badge.svg\" alt=\"Open In Colab\"/></a>"
      ]
    },
    {
      "cell_type": "code",
      "metadata": {
        "colab": {
          "base_uri": "https://localhost:8080/"
        },
        "id": "TMrjRNJaFdYs",
        "outputId": "e5794322-003a-4bb2-db07-1da258948be9"
      },
      "source": [
        "from google.colab import drive\n",
        "drive.mount('/content/drive')"
      ],
      "execution_count": null,
      "outputs": [
        {
          "output_type": "stream",
          "text": [
            "Mounted at /content/drive\n"
          ],
          "name": "stdout"
        }
      ]
    },
    {
      "cell_type": "code",
      "metadata": {
        "id": "f_j7uO_xGV_a"
      },
      "source": [
        "!ls 'drive/MyDrive'"
      ],
      "execution_count": null,
      "outputs": []
    },
    {
      "cell_type": "code",
      "metadata": {
        "id": "8qpa9hXVGdD9"
      },
      "source": [
        "import os"
      ],
      "execution_count": null,
      "outputs": []
    },
    {
      "cell_type": "code",
      "metadata": {
        "id": "xudy2zV5GnAO"
      },
      "source": [
        "os.chdir('drive/MyDrive/Colab Notebooks')"
      ],
      "execution_count": null,
      "outputs": []
    },
    {
      "cell_type": "code",
      "metadata": {
        "colab": {
          "base_uri": "https://localhost:8080/"
        },
        "id": "1KXAD7vvGvTZ",
        "outputId": "251a1c5f-329d-418f-ccbf-28c8d4e9273d"
      },
      "source": [
        "!ls"
      ],
      "execution_count": null,
      "outputs": [
        {
          "output_type": "stream",
          "text": [
            "PythonAula1.ipynb  rdu-weather-history.csv\n"
          ],
          "name": "stdout"
        }
      ]
    },
    {
      "cell_type": "code",
      "metadata": {
        "colab": {
          "base_uri": "https://localhost:8080/"
        },
        "id": "bJymhSBNG3f_",
        "outputId": "dff78b86-474c-4551-94bf-6a7a9e67826f"
      },
      "source": [
        "2+2"
      ],
      "execution_count": null,
      "outputs": [
        {
          "output_type": "execute_result",
          "data": {
            "text/plain": [
              "4"
            ]
          },
          "metadata": {
            "tags": []
          },
          "execution_count": 7
        }
      ]
    },
    {
      "cell_type": "code",
      "metadata": {
        "colab": {
          "base_uri": "https://localhost:8080/"
        },
        "id": "-SX11YN3IjNw",
        "outputId": "a0a485f0-61a4-4611-f77c-4ca08e6245b0"
      },
      "source": [
        "nome = input('Digite o seu nome:')"
      ],
      "execution_count": null,
      "outputs": [
        {
          "output_type": "stream",
          "text": [
            "Digite o seu nome:Amanda\n"
          ],
          "name": "stdout"
        }
      ]
    },
    {
      "cell_type": "code",
      "metadata": {
        "colab": {
          "base_uri": "https://localhost:8080/"
        },
        "id": "ugjrlwM5ImqD",
        "outputId": "6441dc42-d4bd-4ccb-d5a4-bc905b0e73bb"
      },
      "source": [
        "nome,type(nome)"
      ],
      "execution_count": null,
      "outputs": [
        {
          "output_type": "execute_result",
          "data": {
            "text/plain": [
              "('Amanda', str)"
            ]
          },
          "metadata": {
            "tags": []
          },
          "execution_count": 11
        }
      ]
    },
    {
      "cell_type": "code",
      "metadata": {
        "colab": {
          "base_uri": "https://localhost:8080/"
        },
        "id": "Ym7pNW0cIk4W",
        "outputId": "0b4b8689-67dd-41b5-f473-b8e2cb080690"
      },
      "source": [
        "idade = input('Digite a sua idade:')"
      ],
      "execution_count": null,
      "outputs": [
        {
          "output_type": "stream",
          "text": [
            "Digite a sua idade:32\n"
          ],
          "name": "stdout"
        }
      ]
    },
    {
      "cell_type": "code",
      "metadata": {
        "id": "3gwJh097KXWu"
      },
      "source": [
        "idade = int(idade)"
      ],
      "execution_count": null,
      "outputs": []
    },
    {
      "cell_type": "code",
      "metadata": {
        "colab": {
          "base_uri": "https://localhost:8080/"
        },
        "id": "YphrM7PJKZXe",
        "outputId": "589468c5-53cb-4967-cff7-47ab61f4fb79"
      },
      "source": [
        "idade,type(idade)"
      ],
      "execution_count": null,
      "outputs": [
        {
          "output_type": "execute_result",
          "data": {
            "text/plain": [
              "(32, int)"
            ]
          },
          "metadata": {
            "tags": []
          },
          "execution_count": 18
        }
      ]
    },
    {
      "cell_type": "code",
      "metadata": {
        "colab": {
          "base_uri": "https://localhost:8080/"
        },
        "id": "iEa-cLtkKhdm",
        "outputId": "552d59c9-5f3d-4036-a7c0-56d87f3ea19a"
      },
      "source": [
        "idade*2"
      ],
      "execution_count": null,
      "outputs": [
        {
          "output_type": "execute_result",
          "data": {
            "text/plain": [
              "64"
            ]
          },
          "metadata": {
            "tags": []
          },
          "execution_count": 19
        }
      ]
    },
    {
      "cell_type": "code",
      "metadata": {
        "colab": {
          "base_uri": "https://localhost:8080/"
        },
        "id": "Ha84XCUuLwGE",
        "outputId": "dbe614bc-dce5-49ae-9910-de14ce454bb1"
      },
      "source": [
        "idade = input('Digite a sua idade:')"
      ],
      "execution_count": null,
      "outputs": [
        {
          "output_type": "stream",
          "text": [
            "Digite a sua idade:32\n"
          ],
          "name": "stdout"
        }
      ]
    },
    {
      "cell_type": "code",
      "metadata": {
        "colab": {
          "base_uri": "https://localhost:8080/"
        },
        "id": "vNgq_gj4LvpL",
        "outputId": "14ace56f-4d8f-4804-c889-213c14704c22"
      },
      "source": [
        "idade,type(idade)"
      ],
      "execution_count": null,
      "outputs": [
        {
          "output_type": "execute_result",
          "data": {
            "text/plain": [
              "('32', str)"
            ]
          },
          "metadata": {
            "tags": []
          },
          "execution_count": 23
        }
      ]
    },
    {
      "cell_type": "code",
      "metadata": {
        "id": "tYpBXcF-Lupp"
      },
      "source": [
        "def fun_int(idd):\n",
        "  idd = int(idd)\n",
        "  return idd "
      ],
      "execution_count": null,
      "outputs": []
    },
    {
      "cell_type": "code",
      "metadata": {
        "colab": {
          "base_uri": "https://localhost:8080/"
        },
        "id": "mxQJfl4tKzt3",
        "outputId": "0aa096dd-db4f-4264-c49e-2dd971f0bfc2"
      },
      "source": [
        "idade = fun_int(idade)\n",
        "idade,type(idade)"
      ],
      "execution_count": null,
      "outputs": [
        {
          "output_type": "execute_result",
          "data": {
            "text/plain": [
              "(32, int)"
            ]
          },
          "metadata": {
            "tags": []
          },
          "execution_count": 24
        }
      ]
    },
    {
      "cell_type": "code",
      "metadata": {
        "id": "iK38Yas-MKNu"
      },
      "source": [
        "anon_int = lambda idd: int(idd)"
      ],
      "execution_count": null,
      "outputs": []
    },
    {
      "cell_type": "code",
      "metadata": {
        "colab": {
          "base_uri": "https://localhost:8080/"
        },
        "id": "YCRum9u6MkCx",
        "outputId": "da24afae-f0d0-4a36-bbc0-dfea65062cc2"
      },
      "source": [
        "idade = anon_int(input('digite sua idade'))"
      ],
      "execution_count": null,
      "outputs": [
        {
          "output_type": "stream",
          "text": [
            "digite sua idade23\n"
          ],
          "name": "stdout"
        }
      ]
    },
    {
      "cell_type": "code",
      "metadata": {
        "colab": {
          "base_uri": "https://localhost:8080/"
        },
        "id": "dnYW4Pk4MrAY",
        "outputId": "a2c0a458-4c82-4e04-df49-842c0016f64b"
      },
      "source": [
        "idade,type(idade)"
      ],
      "execution_count": null,
      "outputs": [
        {
          "output_type": "execute_result",
          "data": {
            "text/plain": [
              "(23, int)"
            ]
          },
          "metadata": {
            "tags": []
          },
          "execution_count": 27
        }
      ]
    },
    {
      "cell_type": "code",
      "metadata": {
        "id": "H_8JiBExMt5-"
      },
      "source": [
        "def fatorial(var):\n",
        "  f = 1\n",
        "  while var>0:\n",
        "    f = f*var\n",
        "    #var = var - 1\n",
        "    var -= 1\n",
        "  return f "
      ],
      "execution_count": null,
      "outputs": []
    },
    {
      "cell_type": "code",
      "metadata": {
        "colab": {
          "base_uri": "https://localhost:8080/"
        },
        "id": "5729WhxEOc9s",
        "outputId": "6312be3a-acc1-46cd-f3ed-4a9e7dba5328"
      },
      "source": [
        "fatorial(3)"
      ],
      "execution_count": null,
      "outputs": [
        {
          "output_type": "execute_result",
          "data": {
            "text/plain": [
              "6"
            ]
          },
          "metadata": {
            "tags": []
          },
          "execution_count": 31
        }
      ]
    },
    {
      "cell_type": "code",
      "metadata": {
        "id": "q-fyB98FOfPE"
      },
      "source": [
        "fat7 = fatorial(7)"
      ],
      "execution_count": null,
      "outputs": []
    },
    {
      "cell_type": "code",
      "metadata": {
        "colab": {
          "base_uri": "https://localhost:8080/"
        },
        "id": "w31G1Ir2O9p1",
        "outputId": "2558c419-bb78-47b4-aa2e-9de95a81c887"
      },
      "source": [
        "print(f'O fatorial de 7 é igual a {fat7}')"
      ],
      "execution_count": null,
      "outputs": [
        {
          "output_type": "stream",
          "text": [
            "O fatorial de 7 é igual a 5040\n"
          ],
          "name": "stdout"
        }
      ]
    },
    {
      "cell_type": "code",
      "metadata": {
        "colab": {
          "base_uri": "https://localhost:8080/"
        },
        "id": "64SxSfIAPLB8",
        "outputId": "58738326-04cd-4ecc-e75c-3126474a4332"
      },
      "source": [
        "print(f'O fatorial de 7 é igual a {fatorial(7)}')"
      ],
      "execution_count": null,
      "outputs": [
        {
          "output_type": "stream",
          "text": [
            "O fatorial de 7 é igual a 5040\n"
          ],
          "name": "stdout"
        }
      ]
    },
    {
      "cell_type": "code",
      "metadata": {
        "id": "5CmnjgK7PUq5"
      },
      "source": [
        "import math as ma"
      ],
      "execution_count": null,
      "outputs": []
    },
    {
      "cell_type": "code",
      "metadata": {
        "colab": {
          "base_uri": "https://localhost:8080/"
        },
        "id": "5EH8jSDAQYPY",
        "outputId": "b52a5cbb-670c-4e0e-d847-37a7be0bc359"
      },
      "source": [
        "ma.factorial(7)"
      ],
      "execution_count": null,
      "outputs": [
        {
          "output_type": "execute_result",
          "data": {
            "text/plain": [
              "5040"
            ]
          },
          "metadata": {
            "tags": []
          },
          "execution_count": 40
        }
      ]
    },
    {
      "cell_type": "code",
      "metadata": {
        "colab": {
          "base_uri": "https://localhost:8080/"
        },
        "id": "274Fqd1XQdss",
        "outputId": "4a530eae-802c-482d-d14f-bb5037c70d3b"
      },
      "source": [
        "ma.pi"
      ],
      "execution_count": null,
      "outputs": [
        {
          "output_type": "execute_result",
          "data": {
            "text/plain": [
              "3.141592653589793"
            ]
          },
          "metadata": {
            "tags": []
          },
          "execution_count": 41
        }
      ]
    },
    {
      "cell_type": "code",
      "metadata": {
        "colab": {
          "base_uri": "https://localhost:8080/"
        },
        "id": "ZznOUkTAQrTl",
        "outputId": "a39065c9-022e-469f-c963-5d6368534eb0"
      },
      "source": [
        "raio = input('Digite o valor do raio:')"
      ],
      "execution_count": null,
      "outputs": [
        {
          "output_type": "stream",
          "text": [
            "Digite o valor do raio:2.3\n"
          ],
          "name": "stdout"
        }
      ]
    },
    {
      "cell_type": "code",
      "metadata": {
        "colab": {
          "base_uri": "https://localhost:8080/"
        },
        "id": "N1i11wZtRueO",
        "outputId": "14afe18a-3016-458f-a506-36f0d8b03cd3"
      },
      "source": [
        "raio,type(raio)"
      ],
      "execution_count": null,
      "outputs": [
        {
          "output_type": "execute_result",
          "data": {
            "text/plain": [
              "('2.3', str)"
            ]
          },
          "metadata": {
            "tags": []
          },
          "execution_count": 44
        }
      ]
    },
    {
      "cell_type": "code",
      "metadata": {
        "id": "GStB9swMRwtD"
      },
      "source": [
        "def calcula_area(r):\n",
        "  r = float(r)\n",
        "  S = ma.pi*r**2\n",
        "  return S"
      ],
      "execution_count": null,
      "outputs": []
    },
    {
      "cell_type": "code",
      "metadata": {
        "colab": {
          "base_uri": "https://localhost:8080/"
        },
        "id": "wCX10SI4R_63",
        "outputId": "01e177ca-2e01-47a8-fe53-558b0a77613f"
      },
      "source": [
        "Sc = calcula_area(raio)\n",
        "Sc "
      ],
      "execution_count": null,
      "outputs": [
        {
          "output_type": "execute_result",
          "data": {
            "text/plain": [
              "16.619025137490002"
            ]
          },
          "metadata": {
            "tags": []
          },
          "execution_count": 47
        }
      ]
    },
    {
      "cell_type": "code",
      "metadata": {
        "colab": {
          "base_uri": "https://localhost:8080/"
        },
        "id": "-9F9l3-nSGuD",
        "outputId": "046a462b-62f3-485e-c63f-9e1d49da9823"
      },
      "source": [
        "print(f'O círculo de raio {float(raio)} tem área igual a {Sc:.4}')"
      ],
      "execution_count": null,
      "outputs": [
        {
          "output_type": "stream",
          "text": [
            "O círculo de raio 2.3 tem área igual a 16.62\n"
          ],
          "name": "stdout"
        }
      ]
    },
    {
      "cell_type": "code",
      "metadata": {
        "colab": {
          "base_uri": "https://localhost:8080/"
        },
        "id": "UTZgsllMSUIh",
        "outputId": "c411ee9b-dccd-4315-b66c-857fa80155b9"
      },
      "source": [
        "print(f'O círculo de raio {float(raio)} tem área igual a {Sc:.4f}')"
      ],
      "execution_count": null,
      "outputs": [
        {
          "output_type": "stream",
          "text": [
            "O círculo de raio 2.3 tem área igual a 16.6190\n"
          ],
          "name": "stdout"
        }
      ]
    },
    {
      "cell_type": "code",
      "metadata": {
        "id": "i5ywv9mlSiO4"
      },
      "source": [
        "import numpy as np"
      ],
      "execution_count": null,
      "outputs": []
    },
    {
      "cell_type": "code",
      "metadata": {
        "id": "g8AFijG8S9pg"
      },
      "source": [
        "vet1 = np.random.uniform(0,20,5)"
      ],
      "execution_count": null,
      "outputs": []
    },
    {
      "cell_type": "code",
      "metadata": {
        "colab": {
          "base_uri": "https://localhost:8080/"
        },
        "id": "izdSgdncTXXm",
        "outputId": "f00ecd3d-e358-4c04-da59-84d10b7d36d0"
      },
      "source": [
        "vet1"
      ],
      "execution_count": null,
      "outputs": [
        {
          "output_type": "execute_result",
          "data": {
            "text/plain": [
              "array([13.98515429, 19.20347688, 12.7478806 , 14.3549759 , 16.8990783 ])"
            ]
          },
          "metadata": {
            "tags": []
          },
          "execution_count": 53
        }
      ]
    },
    {
      "cell_type": "code",
      "metadata": {
        "colab": {
          "base_uri": "https://localhost:8080/"
        },
        "id": "c083R-xKTYVD",
        "outputId": "b87b2580-2767-4f1a-9a68-41c663e48ea0"
      },
      "source": [
        "vet2 = np.random.uniform(0,20,5)\n",
        "vet2"
      ],
      "execution_count": null,
      "outputs": [
        {
          "output_type": "execute_result",
          "data": {
            "text/plain": [
              "array([16.00498085,  1.98285412,  4.8302937 , 10.03082724, 13.03924486])"
            ]
          },
          "metadata": {
            "tags": []
          },
          "execution_count": 54
        }
      ]
    },
    {
      "cell_type": "code",
      "metadata": {
        "colab": {
          "base_uri": "https://localhost:8080/"
        },
        "id": "ZbzSVFbPUgW4",
        "outputId": "35e8ee63-9beb-41b3-ab59-967b6ebfa8c4"
      },
      "source": [
        "len(vet1)"
      ],
      "execution_count": null,
      "outputs": [
        {
          "output_type": "execute_result",
          "data": {
            "text/plain": [
              "5"
            ]
          },
          "metadata": {
            "tags": []
          },
          "execution_count": 55
        }
      ]
    },
    {
      "cell_type": "code",
      "metadata": {
        "id": "el7YKxo2TddS"
      },
      "source": [
        "def funcao(v1,v2):\n",
        "  n = len(v1)\n",
        "  ss = 0\n",
        "  for i in range(n):\n",
        "    ss = ss + v1[i]*v2[i]\n",
        "  return ss "
      ],
      "execution_count": null,
      "outputs": []
    },
    {
      "cell_type": "code",
      "metadata": {
        "colab": {
          "base_uri": "https://localhost:8080/"
        },
        "id": "25JTFKb5U_fH",
        "outputId": "0bee2c7f-760b-4dae-d929-dd26e63a77b3"
      },
      "source": [
        "funcao(vet1,vet2)"
      ],
      "execution_count": null,
      "outputs": [
        {
          "output_type": "execute_result",
          "data": {
            "text/plain": [
              "687.8293305613691"
            ]
          },
          "metadata": {
            "tags": []
          },
          "execution_count": 57
        }
      ]
    },
    {
      "cell_type": "code",
      "metadata": {
        "colab": {
          "base_uri": "https://localhost:8080/"
        },
        "id": "fAHtK2DAVBdG",
        "outputId": "8d5e520c-abe0-4714-f174-af76f21f8e18"
      },
      "source": [
        "np.sum(vet1*vet2)"
      ],
      "execution_count": null,
      "outputs": [
        {
          "output_type": "execute_result",
          "data": {
            "text/plain": [
              "687.8293305613691"
            ]
          },
          "metadata": {
            "tags": []
          },
          "execution_count": 59
        }
      ]
    },
    {
      "cell_type": "code",
      "metadata": {
        "id": "9RPlTaJ4VI1u"
      },
      "source": [
        "funcao2 = lambda v1,v2: np.sum(v1*v2)"
      ],
      "execution_count": null,
      "outputs": []
    },
    {
      "cell_type": "code",
      "metadata": {
        "colab": {
          "base_uri": "https://localhost:8080/"
        },
        "id": "F8szIxmYVTXe",
        "outputId": "35b06722-89bc-42c5-d09a-8330270796e0"
      },
      "source": [
        "funcao2(vet1,vet2)"
      ],
      "execution_count": null,
      "outputs": [
        {
          "output_type": "execute_result",
          "data": {
            "text/plain": [
              "687.8293305613691"
            ]
          },
          "metadata": {
            "tags": []
          },
          "execution_count": 61
        }
      ]
    },
    {
      "cell_type": "code",
      "metadata": {
        "colab": {
          "base_uri": "https://localhost:8080/"
        },
        "id": "DCII492vVVUy",
        "outputId": "09fe3ceb-ba8b-41fc-e827-806166354efb"
      },
      "source": [
        "for i in range(5):\n",
        "  print(i,vet1[i]*vet2[i])"
      ],
      "execution_count": null,
      "outputs": [
        {
          "output_type": "stream",
          "text": [
            "0 223.83212669918078\n",
            "1 38.077693308340784\n",
            "2 61.57600736053643\n",
            "3 143.99228330354723\n",
            "4 220.35121988976394\n"
          ],
          "name": "stdout"
        }
      ]
    },
    {
      "cell_type": "code",
      "metadata": {
        "colab": {
          "base_uri": "https://localhost:8080/"
        },
        "id": "f3lCoOiXVvlb",
        "outputId": "cbfbe935-fceb-434c-f023-e9d75480002f"
      },
      "source": [
        "vet1*vet2"
      ],
      "execution_count": null,
      "outputs": [
        {
          "output_type": "execute_result",
          "data": {
            "text/plain": [
              "array([223.8321267 ,  38.07769331,  61.57600736, 143.9922833 ,\n",
              "       220.35121989])"
            ]
          },
          "metadata": {
            "tags": []
          },
          "execution_count": 63
        }
      ]
    },
    {
      "cell_type": "code",
      "metadata": {
        "id": "YIYqTua0WF2P"
      },
      "source": [
        "import pandas as pd"
      ],
      "execution_count": null,
      "outputs": []
    },
    {
      "cell_type": "code",
      "metadata": {
        "id": "btTcCfDTXPtX"
      },
      "source": [
        "dados = pd.read_csv('rdu-weather-history.csv',sep = ';')"
      ],
      "execution_count": null,
      "outputs": []
    },
    {
      "cell_type": "code",
      "metadata": {
        "colab": {
          "base_uri": "https://localhost:8080/",
          "height": 452
        },
        "id": "dBf532SGYK5n",
        "outputId": "f30216b0-ceb0-4f10-b00e-a2872a559b63"
      },
      "source": [
        "dados.head(8)"
      ],
      "execution_count": null,
      "outputs": [
        {
          "output_type": "execute_result",
          "data": {
            "text/html": [
              "<div>\n",
              "<style scoped>\n",
              "    .dataframe tbody tr th:only-of-type {\n",
              "        vertical-align: middle;\n",
              "    }\n",
              "\n",
              "    .dataframe tbody tr th {\n",
              "        vertical-align: top;\n",
              "    }\n",
              "\n",
              "    .dataframe thead th {\n",
              "        text-align: right;\n",
              "    }\n",
              "</style>\n",
              "<table border=\"1\" class=\"dataframe\">\n",
              "  <thead>\n",
              "    <tr style=\"text-align: right;\">\n",
              "      <th></th>\n",
              "      <th>date</th>\n",
              "      <th>temperaturemin</th>\n",
              "      <th>temperaturemax</th>\n",
              "      <th>precipitation</th>\n",
              "      <th>snowfall</th>\n",
              "      <th>snowdepth</th>\n",
              "      <th>avgwindspeed</th>\n",
              "      <th>fastest2minwinddir</th>\n",
              "      <th>fastest2minwindspeed</th>\n",
              "      <th>fastest5secwinddir</th>\n",
              "      <th>fastest5secwindspeed</th>\n",
              "      <th>fog</th>\n",
              "      <th>fogheavy</th>\n",
              "      <th>mist</th>\n",
              "      <th>rain</th>\n",
              "      <th>fogground</th>\n",
              "      <th>ice</th>\n",
              "      <th>glaze</th>\n",
              "      <th>drizzle</th>\n",
              "      <th>snow</th>\n",
              "      <th>freezingrain</th>\n",
              "      <th>smokehaze</th>\n",
              "      <th>thunder</th>\n",
              "      <th>highwind</th>\n",
              "      <th>hail</th>\n",
              "      <th>blowingsnow</th>\n",
              "      <th>dust</th>\n",
              "      <th>freezingfog</th>\n",
              "    </tr>\n",
              "  </thead>\n",
              "  <tbody>\n",
              "    <tr>\n",
              "      <th>0</th>\n",
              "      <td>2007-01-06</td>\n",
              "      <td>50.0</td>\n",
              "      <td>71.1</td>\n",
              "      <td>0.13</td>\n",
              "      <td>0.0</td>\n",
              "      <td>0.0</td>\n",
              "      <td>8.05</td>\n",
              "      <td>230.0</td>\n",
              "      <td>17.90</td>\n",
              "      <td>230.0</td>\n",
              "      <td>21.92</td>\n",
              "      <td>Yes</td>\n",
              "      <td>No</td>\n",
              "      <td>Yes</td>\n",
              "      <td>Yes</td>\n",
              "      <td>No</td>\n",
              "      <td>No</td>\n",
              "      <td>No</td>\n",
              "      <td>No</td>\n",
              "      <td>No</td>\n",
              "      <td>No</td>\n",
              "      <td>No</td>\n",
              "      <td>No</td>\n",
              "      <td>No</td>\n",
              "      <td>No</td>\n",
              "      <td>No</td>\n",
              "      <td>No</td>\n",
              "      <td>No</td>\n",
              "    </tr>\n",
              "    <tr>\n",
              "      <th>1</th>\n",
              "      <td>2007-01-09</td>\n",
              "      <td>30.0</td>\n",
              "      <td>55.0</td>\n",
              "      <td>0.00</td>\n",
              "      <td>0.0</td>\n",
              "      <td>0.0</td>\n",
              "      <td>7.61</td>\n",
              "      <td>280.0</td>\n",
              "      <td>23.04</td>\n",
              "      <td>270.0</td>\n",
              "      <td>29.08</td>\n",
              "      <td>No</td>\n",
              "      <td>No</td>\n",
              "      <td>No</td>\n",
              "      <td>Yes</td>\n",
              "      <td>No</td>\n",
              "      <td>No</td>\n",
              "      <td>No</td>\n",
              "      <td>No</td>\n",
              "      <td>No</td>\n",
              "      <td>No</td>\n",
              "      <td>No</td>\n",
              "      <td>No</td>\n",
              "      <td>No</td>\n",
              "      <td>No</td>\n",
              "      <td>No</td>\n",
              "      <td>No</td>\n",
              "      <td>No</td>\n",
              "    </tr>\n",
              "    <tr>\n",
              "      <th>2</th>\n",
              "      <td>2007-01-14</td>\n",
              "      <td>50.0</td>\n",
              "      <td>73.9</td>\n",
              "      <td>0.00</td>\n",
              "      <td>0.0</td>\n",
              "      <td>0.0</td>\n",
              "      <td>8.50</td>\n",
              "      <td>230.0</td>\n",
              "      <td>21.03</td>\n",
              "      <td>230.0</td>\n",
              "      <td>25.05</td>\n",
              "      <td>No</td>\n",
              "      <td>No</td>\n",
              "      <td>No</td>\n",
              "      <td>No</td>\n",
              "      <td>No</td>\n",
              "      <td>No</td>\n",
              "      <td>No</td>\n",
              "      <td>No</td>\n",
              "      <td>No</td>\n",
              "      <td>No</td>\n",
              "      <td>No</td>\n",
              "      <td>No</td>\n",
              "      <td>No</td>\n",
              "      <td>No</td>\n",
              "      <td>No</td>\n",
              "      <td>No</td>\n",
              "      <td>No</td>\n",
              "    </tr>\n",
              "    <tr>\n",
              "      <th>3</th>\n",
              "      <td>2007-01-15</td>\n",
              "      <td>57.0</td>\n",
              "      <td>73.9</td>\n",
              "      <td>0.00</td>\n",
              "      <td>0.0</td>\n",
              "      <td>0.0</td>\n",
              "      <td>13.20</td>\n",
              "      <td>230.0</td>\n",
              "      <td>23.94</td>\n",
              "      <td>230.0</td>\n",
              "      <td>29.08</td>\n",
              "      <td>No</td>\n",
              "      <td>No</td>\n",
              "      <td>No</td>\n",
              "      <td>No</td>\n",
              "      <td>No</td>\n",
              "      <td>No</td>\n",
              "      <td>No</td>\n",
              "      <td>No</td>\n",
              "      <td>No</td>\n",
              "      <td>No</td>\n",
              "      <td>No</td>\n",
              "      <td>No</td>\n",
              "      <td>No</td>\n",
              "      <td>No</td>\n",
              "      <td>No</td>\n",
              "      <td>No</td>\n",
              "      <td>No</td>\n",
              "    </tr>\n",
              "    <tr>\n",
              "      <th>4</th>\n",
              "      <td>2007-01-20</td>\n",
              "      <td>26.1</td>\n",
              "      <td>48.0</td>\n",
              "      <td>0.00</td>\n",
              "      <td>0.0</td>\n",
              "      <td>0.0</td>\n",
              "      <td>4.92</td>\n",
              "      <td>290.0</td>\n",
              "      <td>16.11</td>\n",
              "      <td>320.0</td>\n",
              "      <td>21.03</td>\n",
              "      <td>No</td>\n",
              "      <td>No</td>\n",
              "      <td>No</td>\n",
              "      <td>No</td>\n",
              "      <td>No</td>\n",
              "      <td>No</td>\n",
              "      <td>No</td>\n",
              "      <td>No</td>\n",
              "      <td>No</td>\n",
              "      <td>No</td>\n",
              "      <td>No</td>\n",
              "      <td>No</td>\n",
              "      <td>No</td>\n",
              "      <td>No</td>\n",
              "      <td>No</td>\n",
              "      <td>No</td>\n",
              "      <td>No</td>\n",
              "    </tr>\n",
              "    <tr>\n",
              "      <th>5</th>\n",
              "      <td>2007-01-22</td>\n",
              "      <td>33.1</td>\n",
              "      <td>41.0</td>\n",
              "      <td>0.08</td>\n",
              "      <td>0.0</td>\n",
              "      <td>0.0</td>\n",
              "      <td>2.01</td>\n",
              "      <td>230.0</td>\n",
              "      <td>8.05</td>\n",
              "      <td>10.0</td>\n",
              "      <td>12.08</td>\n",
              "      <td>Yes</td>\n",
              "      <td>No</td>\n",
              "      <td>Yes</td>\n",
              "      <td>Yes</td>\n",
              "      <td>No</td>\n",
              "      <td>No</td>\n",
              "      <td>No</td>\n",
              "      <td>Yes</td>\n",
              "      <td>No</td>\n",
              "      <td>No</td>\n",
              "      <td>No</td>\n",
              "      <td>No</td>\n",
              "      <td>No</td>\n",
              "      <td>No</td>\n",
              "      <td>No</td>\n",
              "      <td>No</td>\n",
              "      <td>No</td>\n",
              "    </tr>\n",
              "    <tr>\n",
              "      <th>6</th>\n",
              "      <td>2007-01-24</td>\n",
              "      <td>30.0</td>\n",
              "      <td>48.9</td>\n",
              "      <td>0.00</td>\n",
              "      <td>0.0</td>\n",
              "      <td>0.0</td>\n",
              "      <td>2.91</td>\n",
              "      <td>50.0</td>\n",
              "      <td>14.09</td>\n",
              "      <td>50.0</td>\n",
              "      <td>17.00</td>\n",
              "      <td>Yes</td>\n",
              "      <td>No</td>\n",
              "      <td>No</td>\n",
              "      <td>No</td>\n",
              "      <td>No</td>\n",
              "      <td>No</td>\n",
              "      <td>No</td>\n",
              "      <td>No</td>\n",
              "      <td>No</td>\n",
              "      <td>No</td>\n",
              "      <td>No</td>\n",
              "      <td>No</td>\n",
              "      <td>No</td>\n",
              "      <td>No</td>\n",
              "      <td>No</td>\n",
              "      <td>No</td>\n",
              "      <td>No</td>\n",
              "    </tr>\n",
              "    <tr>\n",
              "      <th>7</th>\n",
              "      <td>2007-01-27</td>\n",
              "      <td>32.0</td>\n",
              "      <td>64.0</td>\n",
              "      <td>0.00</td>\n",
              "      <td>0.0</td>\n",
              "      <td>0.0</td>\n",
              "      <td>11.41</td>\n",
              "      <td>230.0</td>\n",
              "      <td>19.91</td>\n",
              "      <td>230.0</td>\n",
              "      <td>23.04</td>\n",
              "      <td>No</td>\n",
              "      <td>No</td>\n",
              "      <td>No</td>\n",
              "      <td>No</td>\n",
              "      <td>No</td>\n",
              "      <td>No</td>\n",
              "      <td>No</td>\n",
              "      <td>No</td>\n",
              "      <td>No</td>\n",
              "      <td>No</td>\n",
              "      <td>No</td>\n",
              "      <td>No</td>\n",
              "      <td>No</td>\n",
              "      <td>No</td>\n",
              "      <td>No</td>\n",
              "      <td>No</td>\n",
              "      <td>No</td>\n",
              "    </tr>\n",
              "  </tbody>\n",
              "</table>\n",
              "</div>"
            ],
            "text/plain": [
              "         date  temperaturemin  temperaturemax  ...  blowingsnow  dust  freezingfog\n",
              "0  2007-01-06            50.0            71.1  ...           No    No           No\n",
              "1  2007-01-09            30.0            55.0  ...           No    No           No\n",
              "2  2007-01-14            50.0            73.9  ...           No    No           No\n",
              "3  2007-01-15            57.0            73.9  ...           No    No           No\n",
              "4  2007-01-20            26.1            48.0  ...           No    No           No\n",
              "5  2007-01-22            33.1            41.0  ...           No    No           No\n",
              "6  2007-01-24            30.0            48.9  ...           No    No           No\n",
              "7  2007-01-27            32.0            64.0  ...           No    No           No\n",
              "\n",
              "[8 rows x 28 columns]"
            ]
          },
          "metadata": {
            "tags": []
          },
          "execution_count": 78
        }
      ]
    },
    {
      "cell_type": "code",
      "metadata": {
        "id": "NN_-9UgwYccI"
      },
      "source": [
        "dados.tail()"
      ],
      "execution_count": null,
      "outputs": []
    },
    {
      "cell_type": "code",
      "metadata": {
        "colab": {
          "base_uri": "https://localhost:8080/"
        },
        "id": "RozWIlceZBmx",
        "outputId": "819206c8-25c9-4072-f2ed-a6316a83676e"
      },
      "source": [
        "type(dados)"
      ],
      "execution_count": null,
      "outputs": [
        {
          "output_type": "execute_result",
          "data": {
            "text/plain": [
              "pandas.core.frame.DataFrame"
            ]
          },
          "metadata": {
            "tags": []
          },
          "execution_count": 73
        }
      ]
    },
    {
      "cell_type": "code",
      "metadata": {
        "id": "3VTzjwmiZHOZ"
      },
      "source": [
        "dados.to_excel('dadosemexcel.xlsx')"
      ],
      "execution_count": null,
      "outputs": []
    },
    {
      "cell_type": "code",
      "metadata": {
        "id": "BTviD6wNZUTG"
      },
      "source": [
        "dados.to_csv('dadosemcsv.csv')"
      ],
      "execution_count": null,
      "outputs": []
    },
    {
      "cell_type": "code",
      "metadata": {
        "id": "v8Og7TGUZkAi"
      },
      "source": [
        "df2 = pd.read_excel('dadosemexcel.xlsx') "
      ],
      "execution_count": null,
      "outputs": []
    },
    {
      "cell_type": "code",
      "metadata": {
        "id": "jVmNoVoFZ0E2"
      },
      "source": [
        "df2.head()"
      ],
      "execution_count": null,
      "outputs": []
    },
    {
      "cell_type": "code",
      "metadata": {
        "colab": {
          "base_uri": "https://localhost:8080/"
        },
        "id": "9D9Q1isnaQRp",
        "outputId": "3ec5d2a5-15a6-404b-b014-fe6014882a08"
      },
      "source": [
        "df2.columns"
      ],
      "execution_count": null,
      "outputs": [
        {
          "output_type": "execute_result",
          "data": {
            "text/plain": [
              "Index(['Unnamed: 0', 'date', 'temperaturemin', 'temperaturemax',\n",
              "       'precipitation', 'snowfall', 'snowdepth', 'avgwindspeed',\n",
              "       'fastest2minwinddir', 'fastest2minwindspeed', 'fastest5secwinddir',\n",
              "       'fastest5secwindspeed', 'fog', 'fogheavy', 'mist', 'rain', 'fogground',\n",
              "       'ice', 'glaze', 'drizzle', 'snow', 'freezingrain', 'smokehaze',\n",
              "       'thunder', 'highwind', 'hail', 'blowingsnow', 'dust', 'freezingfog'],\n",
              "      dtype='object')"
            ]
          },
          "metadata": {
            "tags": []
          },
          "execution_count": 79
        }
      ]
    },
    {
      "cell_type": "code",
      "metadata": {
        "id": "TAKGyMoIZ4aJ"
      },
      "source": [
        "df2.drop('Unnamed: 0',axis = 1,inplace = True)"
      ],
      "execution_count": null,
      "outputs": []
    },
    {
      "cell_type": "code",
      "metadata": {
        "colab": {
          "base_uri": "https://localhost:8080/",
          "height": 308
        },
        "id": "M6GSpinaav5w",
        "outputId": "f0bd7ad5-38e6-4c87-94e4-4b4331748fa4"
      },
      "source": [
        "df2.head()"
      ],
      "execution_count": null,
      "outputs": [
        {
          "output_type": "execute_result",
          "data": {
            "text/html": [
              "<div>\n",
              "<style scoped>\n",
              "    .dataframe tbody tr th:only-of-type {\n",
              "        vertical-align: middle;\n",
              "    }\n",
              "\n",
              "    .dataframe tbody tr th {\n",
              "        vertical-align: top;\n",
              "    }\n",
              "\n",
              "    .dataframe thead th {\n",
              "        text-align: right;\n",
              "    }\n",
              "</style>\n",
              "<table border=\"1\" class=\"dataframe\">\n",
              "  <thead>\n",
              "    <tr style=\"text-align: right;\">\n",
              "      <th></th>\n",
              "      <th>date</th>\n",
              "      <th>temperaturemin</th>\n",
              "      <th>temperaturemax</th>\n",
              "      <th>precipitation</th>\n",
              "      <th>snowfall</th>\n",
              "      <th>snowdepth</th>\n",
              "      <th>avgwindspeed</th>\n",
              "      <th>fastest2minwinddir</th>\n",
              "      <th>fastest2minwindspeed</th>\n",
              "      <th>fastest5secwinddir</th>\n",
              "      <th>fastest5secwindspeed</th>\n",
              "      <th>fog</th>\n",
              "      <th>fogheavy</th>\n",
              "      <th>mist</th>\n",
              "      <th>rain</th>\n",
              "      <th>fogground</th>\n",
              "      <th>ice</th>\n",
              "      <th>glaze</th>\n",
              "      <th>drizzle</th>\n",
              "      <th>snow</th>\n",
              "      <th>freezingrain</th>\n",
              "      <th>smokehaze</th>\n",
              "      <th>thunder</th>\n",
              "      <th>highwind</th>\n",
              "      <th>hail</th>\n",
              "      <th>blowingsnow</th>\n",
              "      <th>dust</th>\n",
              "      <th>freezingfog</th>\n",
              "    </tr>\n",
              "  </thead>\n",
              "  <tbody>\n",
              "    <tr>\n",
              "      <th>0</th>\n",
              "      <td>2007-01-06</td>\n",
              "      <td>50.0</td>\n",
              "      <td>71.1</td>\n",
              "      <td>0.13</td>\n",
              "      <td>0.0</td>\n",
              "      <td>0.0</td>\n",
              "      <td>8.05</td>\n",
              "      <td>230.0</td>\n",
              "      <td>17.90</td>\n",
              "      <td>230.0</td>\n",
              "      <td>21.92</td>\n",
              "      <td>Yes</td>\n",
              "      <td>No</td>\n",
              "      <td>Yes</td>\n",
              "      <td>Yes</td>\n",
              "      <td>No</td>\n",
              "      <td>No</td>\n",
              "      <td>No</td>\n",
              "      <td>No</td>\n",
              "      <td>No</td>\n",
              "      <td>No</td>\n",
              "      <td>No</td>\n",
              "      <td>No</td>\n",
              "      <td>No</td>\n",
              "      <td>No</td>\n",
              "      <td>No</td>\n",
              "      <td>No</td>\n",
              "      <td>No</td>\n",
              "    </tr>\n",
              "    <tr>\n",
              "      <th>1</th>\n",
              "      <td>2007-01-09</td>\n",
              "      <td>30.0</td>\n",
              "      <td>55.0</td>\n",
              "      <td>0.00</td>\n",
              "      <td>0.0</td>\n",
              "      <td>0.0</td>\n",
              "      <td>7.61</td>\n",
              "      <td>280.0</td>\n",
              "      <td>23.04</td>\n",
              "      <td>270.0</td>\n",
              "      <td>29.08</td>\n",
              "      <td>No</td>\n",
              "      <td>No</td>\n",
              "      <td>No</td>\n",
              "      <td>Yes</td>\n",
              "      <td>No</td>\n",
              "      <td>No</td>\n",
              "      <td>No</td>\n",
              "      <td>No</td>\n",
              "      <td>No</td>\n",
              "      <td>No</td>\n",
              "      <td>No</td>\n",
              "      <td>No</td>\n",
              "      <td>No</td>\n",
              "      <td>No</td>\n",
              "      <td>No</td>\n",
              "      <td>No</td>\n",
              "      <td>No</td>\n",
              "    </tr>\n",
              "    <tr>\n",
              "      <th>2</th>\n",
              "      <td>2007-01-14</td>\n",
              "      <td>50.0</td>\n",
              "      <td>73.9</td>\n",
              "      <td>0.00</td>\n",
              "      <td>0.0</td>\n",
              "      <td>0.0</td>\n",
              "      <td>8.50</td>\n",
              "      <td>230.0</td>\n",
              "      <td>21.03</td>\n",
              "      <td>230.0</td>\n",
              "      <td>25.05</td>\n",
              "      <td>No</td>\n",
              "      <td>No</td>\n",
              "      <td>No</td>\n",
              "      <td>No</td>\n",
              "      <td>No</td>\n",
              "      <td>No</td>\n",
              "      <td>No</td>\n",
              "      <td>No</td>\n",
              "      <td>No</td>\n",
              "      <td>No</td>\n",
              "      <td>No</td>\n",
              "      <td>No</td>\n",
              "      <td>No</td>\n",
              "      <td>No</td>\n",
              "      <td>No</td>\n",
              "      <td>No</td>\n",
              "      <td>No</td>\n",
              "    </tr>\n",
              "    <tr>\n",
              "      <th>3</th>\n",
              "      <td>2007-01-15</td>\n",
              "      <td>57.0</td>\n",
              "      <td>73.9</td>\n",
              "      <td>0.00</td>\n",
              "      <td>0.0</td>\n",
              "      <td>0.0</td>\n",
              "      <td>13.20</td>\n",
              "      <td>230.0</td>\n",
              "      <td>23.94</td>\n",
              "      <td>230.0</td>\n",
              "      <td>29.08</td>\n",
              "      <td>No</td>\n",
              "      <td>No</td>\n",
              "      <td>No</td>\n",
              "      <td>No</td>\n",
              "      <td>No</td>\n",
              "      <td>No</td>\n",
              "      <td>No</td>\n",
              "      <td>No</td>\n",
              "      <td>No</td>\n",
              "      <td>No</td>\n",
              "      <td>No</td>\n",
              "      <td>No</td>\n",
              "      <td>No</td>\n",
              "      <td>No</td>\n",
              "      <td>No</td>\n",
              "      <td>No</td>\n",
              "      <td>No</td>\n",
              "    </tr>\n",
              "    <tr>\n",
              "      <th>4</th>\n",
              "      <td>2007-01-20</td>\n",
              "      <td>26.1</td>\n",
              "      <td>48.0</td>\n",
              "      <td>0.00</td>\n",
              "      <td>0.0</td>\n",
              "      <td>0.0</td>\n",
              "      <td>4.92</td>\n",
              "      <td>290.0</td>\n",
              "      <td>16.11</td>\n",
              "      <td>320.0</td>\n",
              "      <td>21.03</td>\n",
              "      <td>No</td>\n",
              "      <td>No</td>\n",
              "      <td>No</td>\n",
              "      <td>No</td>\n",
              "      <td>No</td>\n",
              "      <td>No</td>\n",
              "      <td>No</td>\n",
              "      <td>No</td>\n",
              "      <td>No</td>\n",
              "      <td>No</td>\n",
              "      <td>No</td>\n",
              "      <td>No</td>\n",
              "      <td>No</td>\n",
              "      <td>No</td>\n",
              "      <td>No</td>\n",
              "      <td>No</td>\n",
              "      <td>No</td>\n",
              "    </tr>\n",
              "  </tbody>\n",
              "</table>\n",
              "</div>"
            ],
            "text/plain": [
              "         date  temperaturemin  temperaturemax  ...  blowingsnow  dust  freezingfog\n",
              "0  2007-01-06            50.0            71.1  ...           No    No           No\n",
              "1  2007-01-09            30.0            55.0  ...           No    No           No\n",
              "2  2007-01-14            50.0            73.9  ...           No    No           No\n",
              "3  2007-01-15            57.0            73.9  ...           No    No           No\n",
              "4  2007-01-20            26.1            48.0  ...           No    No           No\n",
              "\n",
              "[5 rows x 28 columns]"
            ]
          },
          "metadata": {
            "tags": []
          },
          "execution_count": 82
        }
      ]
    },
    {
      "cell_type": "code",
      "metadata": {
        "colab": {
          "base_uri": "https://localhost:8080/"
        },
        "id": "442_Tl5fbaOC",
        "outputId": "38d00e46-1e12-4433-e164-e9a16b01f4f8"
      },
      "source": [
        "df2.index[0]"
      ],
      "execution_count": null,
      "outputs": [
        {
          "output_type": "execute_result",
          "data": {
            "text/plain": [
              "0"
            ]
          },
          "metadata": {
            "tags": []
          },
          "execution_count": 84
        }
      ]
    },
    {
      "cell_type": "code",
      "metadata": {
        "id": "EzEbk-R_bEH2"
      },
      "source": [
        "df2 = df2.drop(0)"
      ],
      "execution_count": null,
      "outputs": []
    },
    {
      "cell_type": "code",
      "metadata": {
        "colab": {
          "base_uri": "https://localhost:8080/",
          "height": 308
        },
        "id": "PiyHKHmvbW8b",
        "outputId": "85b9dfbc-5dc0-4bf6-d403-0511ca039bd9"
      },
      "source": [
        "df2.head()"
      ],
      "execution_count": null,
      "outputs": [
        {
          "output_type": "execute_result",
          "data": {
            "text/html": [
              "<div>\n",
              "<style scoped>\n",
              "    .dataframe tbody tr th:only-of-type {\n",
              "        vertical-align: middle;\n",
              "    }\n",
              "\n",
              "    .dataframe tbody tr th {\n",
              "        vertical-align: top;\n",
              "    }\n",
              "\n",
              "    .dataframe thead th {\n",
              "        text-align: right;\n",
              "    }\n",
              "</style>\n",
              "<table border=\"1\" class=\"dataframe\">\n",
              "  <thead>\n",
              "    <tr style=\"text-align: right;\">\n",
              "      <th></th>\n",
              "      <th>date</th>\n",
              "      <th>temperaturemin</th>\n",
              "      <th>temperaturemax</th>\n",
              "      <th>precipitation</th>\n",
              "      <th>snowfall</th>\n",
              "      <th>snowdepth</th>\n",
              "      <th>avgwindspeed</th>\n",
              "      <th>fastest2minwinddir</th>\n",
              "      <th>fastest2minwindspeed</th>\n",
              "      <th>fastest5secwinddir</th>\n",
              "      <th>fastest5secwindspeed</th>\n",
              "      <th>fog</th>\n",
              "      <th>fogheavy</th>\n",
              "      <th>mist</th>\n",
              "      <th>rain</th>\n",
              "      <th>fogground</th>\n",
              "      <th>ice</th>\n",
              "      <th>glaze</th>\n",
              "      <th>drizzle</th>\n",
              "      <th>snow</th>\n",
              "      <th>freezingrain</th>\n",
              "      <th>smokehaze</th>\n",
              "      <th>thunder</th>\n",
              "      <th>highwind</th>\n",
              "      <th>hail</th>\n",
              "      <th>blowingsnow</th>\n",
              "      <th>dust</th>\n",
              "      <th>freezingfog</th>\n",
              "    </tr>\n",
              "  </thead>\n",
              "  <tbody>\n",
              "    <tr>\n",
              "      <th>1</th>\n",
              "      <td>2007-01-09</td>\n",
              "      <td>30.0</td>\n",
              "      <td>55.0</td>\n",
              "      <td>0.00</td>\n",
              "      <td>0.0</td>\n",
              "      <td>0.0</td>\n",
              "      <td>7.61</td>\n",
              "      <td>280.0</td>\n",
              "      <td>23.04</td>\n",
              "      <td>270.0</td>\n",
              "      <td>29.08</td>\n",
              "      <td>No</td>\n",
              "      <td>No</td>\n",
              "      <td>No</td>\n",
              "      <td>Yes</td>\n",
              "      <td>No</td>\n",
              "      <td>No</td>\n",
              "      <td>No</td>\n",
              "      <td>No</td>\n",
              "      <td>No</td>\n",
              "      <td>No</td>\n",
              "      <td>No</td>\n",
              "      <td>No</td>\n",
              "      <td>No</td>\n",
              "      <td>No</td>\n",
              "      <td>No</td>\n",
              "      <td>No</td>\n",
              "      <td>No</td>\n",
              "    </tr>\n",
              "    <tr>\n",
              "      <th>2</th>\n",
              "      <td>2007-01-14</td>\n",
              "      <td>50.0</td>\n",
              "      <td>73.9</td>\n",
              "      <td>0.00</td>\n",
              "      <td>0.0</td>\n",
              "      <td>0.0</td>\n",
              "      <td>8.50</td>\n",
              "      <td>230.0</td>\n",
              "      <td>21.03</td>\n",
              "      <td>230.0</td>\n",
              "      <td>25.05</td>\n",
              "      <td>No</td>\n",
              "      <td>No</td>\n",
              "      <td>No</td>\n",
              "      <td>No</td>\n",
              "      <td>No</td>\n",
              "      <td>No</td>\n",
              "      <td>No</td>\n",
              "      <td>No</td>\n",
              "      <td>No</td>\n",
              "      <td>No</td>\n",
              "      <td>No</td>\n",
              "      <td>No</td>\n",
              "      <td>No</td>\n",
              "      <td>No</td>\n",
              "      <td>No</td>\n",
              "      <td>No</td>\n",
              "      <td>No</td>\n",
              "    </tr>\n",
              "    <tr>\n",
              "      <th>3</th>\n",
              "      <td>2007-01-15</td>\n",
              "      <td>57.0</td>\n",
              "      <td>73.9</td>\n",
              "      <td>0.00</td>\n",
              "      <td>0.0</td>\n",
              "      <td>0.0</td>\n",
              "      <td>13.20</td>\n",
              "      <td>230.0</td>\n",
              "      <td>23.94</td>\n",
              "      <td>230.0</td>\n",
              "      <td>29.08</td>\n",
              "      <td>No</td>\n",
              "      <td>No</td>\n",
              "      <td>No</td>\n",
              "      <td>No</td>\n",
              "      <td>No</td>\n",
              "      <td>No</td>\n",
              "      <td>No</td>\n",
              "      <td>No</td>\n",
              "      <td>No</td>\n",
              "      <td>No</td>\n",
              "      <td>No</td>\n",
              "      <td>No</td>\n",
              "      <td>No</td>\n",
              "      <td>No</td>\n",
              "      <td>No</td>\n",
              "      <td>No</td>\n",
              "      <td>No</td>\n",
              "    </tr>\n",
              "    <tr>\n",
              "      <th>4</th>\n",
              "      <td>2007-01-20</td>\n",
              "      <td>26.1</td>\n",
              "      <td>48.0</td>\n",
              "      <td>0.00</td>\n",
              "      <td>0.0</td>\n",
              "      <td>0.0</td>\n",
              "      <td>4.92</td>\n",
              "      <td>290.0</td>\n",
              "      <td>16.11</td>\n",
              "      <td>320.0</td>\n",
              "      <td>21.03</td>\n",
              "      <td>No</td>\n",
              "      <td>No</td>\n",
              "      <td>No</td>\n",
              "      <td>No</td>\n",
              "      <td>No</td>\n",
              "      <td>No</td>\n",
              "      <td>No</td>\n",
              "      <td>No</td>\n",
              "      <td>No</td>\n",
              "      <td>No</td>\n",
              "      <td>No</td>\n",
              "      <td>No</td>\n",
              "      <td>No</td>\n",
              "      <td>No</td>\n",
              "      <td>No</td>\n",
              "      <td>No</td>\n",
              "      <td>No</td>\n",
              "    </tr>\n",
              "    <tr>\n",
              "      <th>5</th>\n",
              "      <td>2007-01-22</td>\n",
              "      <td>33.1</td>\n",
              "      <td>41.0</td>\n",
              "      <td>0.08</td>\n",
              "      <td>0.0</td>\n",
              "      <td>0.0</td>\n",
              "      <td>2.01</td>\n",
              "      <td>230.0</td>\n",
              "      <td>8.05</td>\n",
              "      <td>10.0</td>\n",
              "      <td>12.08</td>\n",
              "      <td>Yes</td>\n",
              "      <td>No</td>\n",
              "      <td>Yes</td>\n",
              "      <td>Yes</td>\n",
              "      <td>No</td>\n",
              "      <td>No</td>\n",
              "      <td>No</td>\n",
              "      <td>Yes</td>\n",
              "      <td>No</td>\n",
              "      <td>No</td>\n",
              "      <td>No</td>\n",
              "      <td>No</td>\n",
              "      <td>No</td>\n",
              "      <td>No</td>\n",
              "      <td>No</td>\n",
              "      <td>No</td>\n",
              "      <td>No</td>\n",
              "    </tr>\n",
              "  </tbody>\n",
              "</table>\n",
              "</div>"
            ],
            "text/plain": [
              "         date  temperaturemin  temperaturemax  ...  blowingsnow  dust  freezingfog\n",
              "1  2007-01-09            30.0            55.0  ...           No    No           No\n",
              "2  2007-01-14            50.0            73.9  ...           No    No           No\n",
              "3  2007-01-15            57.0            73.9  ...           No    No           No\n",
              "4  2007-01-20            26.1            48.0  ...           No    No           No\n",
              "5  2007-01-22            33.1            41.0  ...           No    No           No\n",
              "\n",
              "[5 rows x 28 columns]"
            ]
          },
          "metadata": {
            "tags": []
          },
          "execution_count": 87
        }
      ]
    },
    {
      "cell_type": "code",
      "metadata": {
        "colab": {
          "base_uri": "https://localhost:8080/"
        },
        "id": "fESqaj1ub892",
        "outputId": "2f8197c0-0250-4e76-850a-13f59558d6ab"
      },
      "source": [
        "df2.index[0:3]"
      ],
      "execution_count": null,
      "outputs": [
        {
          "output_type": "execute_result",
          "data": {
            "text/plain": [
              "Int64Index([1, 2, 3], dtype='int64')"
            ]
          },
          "metadata": {
            "tags": []
          },
          "execution_count": 90
        }
      ]
    },
    {
      "cell_type": "code",
      "metadata": {
        "id": "V9-JPxdeb2UT"
      },
      "source": [
        "df2 = df2.drop([1,2,3])"
      ],
      "execution_count": null,
      "outputs": []
    },
    {
      "cell_type": "code",
      "metadata": {
        "colab": {
          "base_uri": "https://localhost:8080/",
          "height": 308
        },
        "id": "iONmZg84bo8e",
        "outputId": "40354784-b596-4347-f905-eca9504c1485"
      },
      "source": [
        "df2.head()"
      ],
      "execution_count": null,
      "outputs": [
        {
          "output_type": "execute_result",
          "data": {
            "text/html": [
              "<div>\n",
              "<style scoped>\n",
              "    .dataframe tbody tr th:only-of-type {\n",
              "        vertical-align: middle;\n",
              "    }\n",
              "\n",
              "    .dataframe tbody tr th {\n",
              "        vertical-align: top;\n",
              "    }\n",
              "\n",
              "    .dataframe thead th {\n",
              "        text-align: right;\n",
              "    }\n",
              "</style>\n",
              "<table border=\"1\" class=\"dataframe\">\n",
              "  <thead>\n",
              "    <tr style=\"text-align: right;\">\n",
              "      <th></th>\n",
              "      <th>date</th>\n",
              "      <th>temperaturemin</th>\n",
              "      <th>temperaturemax</th>\n",
              "      <th>precipitation</th>\n",
              "      <th>snowfall</th>\n",
              "      <th>snowdepth</th>\n",
              "      <th>avgwindspeed</th>\n",
              "      <th>fastest2minwinddir</th>\n",
              "      <th>fastest2minwindspeed</th>\n",
              "      <th>fastest5secwinddir</th>\n",
              "      <th>fastest5secwindspeed</th>\n",
              "      <th>fog</th>\n",
              "      <th>fogheavy</th>\n",
              "      <th>mist</th>\n",
              "      <th>rain</th>\n",
              "      <th>fogground</th>\n",
              "      <th>ice</th>\n",
              "      <th>glaze</th>\n",
              "      <th>drizzle</th>\n",
              "      <th>snow</th>\n",
              "      <th>freezingrain</th>\n",
              "      <th>smokehaze</th>\n",
              "      <th>thunder</th>\n",
              "      <th>highwind</th>\n",
              "      <th>hail</th>\n",
              "      <th>blowingsnow</th>\n",
              "      <th>dust</th>\n",
              "      <th>freezingfog</th>\n",
              "    </tr>\n",
              "  </thead>\n",
              "  <tbody>\n",
              "    <tr>\n",
              "      <th>4</th>\n",
              "      <td>2007-01-20</td>\n",
              "      <td>26.1</td>\n",
              "      <td>48.0</td>\n",
              "      <td>0.00</td>\n",
              "      <td>0.0</td>\n",
              "      <td>0.0</td>\n",
              "      <td>4.92</td>\n",
              "      <td>290.0</td>\n",
              "      <td>16.11</td>\n",
              "      <td>320.0</td>\n",
              "      <td>21.03</td>\n",
              "      <td>No</td>\n",
              "      <td>No</td>\n",
              "      <td>No</td>\n",
              "      <td>No</td>\n",
              "      <td>No</td>\n",
              "      <td>No</td>\n",
              "      <td>No</td>\n",
              "      <td>No</td>\n",
              "      <td>No</td>\n",
              "      <td>No</td>\n",
              "      <td>No</td>\n",
              "      <td>No</td>\n",
              "      <td>No</td>\n",
              "      <td>No</td>\n",
              "      <td>No</td>\n",
              "      <td>No</td>\n",
              "      <td>No</td>\n",
              "    </tr>\n",
              "    <tr>\n",
              "      <th>5</th>\n",
              "      <td>2007-01-22</td>\n",
              "      <td>33.1</td>\n",
              "      <td>41.0</td>\n",
              "      <td>0.08</td>\n",
              "      <td>0.0</td>\n",
              "      <td>0.0</td>\n",
              "      <td>2.01</td>\n",
              "      <td>230.0</td>\n",
              "      <td>8.05</td>\n",
              "      <td>10.0</td>\n",
              "      <td>12.08</td>\n",
              "      <td>Yes</td>\n",
              "      <td>No</td>\n",
              "      <td>Yes</td>\n",
              "      <td>Yes</td>\n",
              "      <td>No</td>\n",
              "      <td>No</td>\n",
              "      <td>No</td>\n",
              "      <td>Yes</td>\n",
              "      <td>No</td>\n",
              "      <td>No</td>\n",
              "      <td>No</td>\n",
              "      <td>No</td>\n",
              "      <td>No</td>\n",
              "      <td>No</td>\n",
              "      <td>No</td>\n",
              "      <td>No</td>\n",
              "      <td>No</td>\n",
              "    </tr>\n",
              "    <tr>\n",
              "      <th>6</th>\n",
              "      <td>2007-01-24</td>\n",
              "      <td>30.0</td>\n",
              "      <td>48.9</td>\n",
              "      <td>0.00</td>\n",
              "      <td>0.0</td>\n",
              "      <td>0.0</td>\n",
              "      <td>2.91</td>\n",
              "      <td>50.0</td>\n",
              "      <td>14.09</td>\n",
              "      <td>50.0</td>\n",
              "      <td>17.00</td>\n",
              "      <td>Yes</td>\n",
              "      <td>No</td>\n",
              "      <td>No</td>\n",
              "      <td>No</td>\n",
              "      <td>No</td>\n",
              "      <td>No</td>\n",
              "      <td>No</td>\n",
              "      <td>No</td>\n",
              "      <td>No</td>\n",
              "      <td>No</td>\n",
              "      <td>No</td>\n",
              "      <td>No</td>\n",
              "      <td>No</td>\n",
              "      <td>No</td>\n",
              "      <td>No</td>\n",
              "      <td>No</td>\n",
              "      <td>No</td>\n",
              "    </tr>\n",
              "    <tr>\n",
              "      <th>7</th>\n",
              "      <td>2007-01-27</td>\n",
              "      <td>32.0</td>\n",
              "      <td>64.0</td>\n",
              "      <td>0.00</td>\n",
              "      <td>0.0</td>\n",
              "      <td>0.0</td>\n",
              "      <td>11.41</td>\n",
              "      <td>230.0</td>\n",
              "      <td>19.91</td>\n",
              "      <td>230.0</td>\n",
              "      <td>23.04</td>\n",
              "      <td>No</td>\n",
              "      <td>No</td>\n",
              "      <td>No</td>\n",
              "      <td>No</td>\n",
              "      <td>No</td>\n",
              "      <td>No</td>\n",
              "      <td>No</td>\n",
              "      <td>No</td>\n",
              "      <td>No</td>\n",
              "      <td>No</td>\n",
              "      <td>No</td>\n",
              "      <td>No</td>\n",
              "      <td>No</td>\n",
              "      <td>No</td>\n",
              "      <td>No</td>\n",
              "      <td>No</td>\n",
              "      <td>No</td>\n",
              "    </tr>\n",
              "    <tr>\n",
              "      <th>8</th>\n",
              "      <td>2007-01-30</td>\n",
              "      <td>24.1</td>\n",
              "      <td>48.9</td>\n",
              "      <td>0.00</td>\n",
              "      <td>0.0</td>\n",
              "      <td>0.0</td>\n",
              "      <td>5.82</td>\n",
              "      <td>220.0</td>\n",
              "      <td>17.90</td>\n",
              "      <td>220.0</td>\n",
              "      <td>21.03</td>\n",
              "      <td>No</td>\n",
              "      <td>No</td>\n",
              "      <td>No</td>\n",
              "      <td>No</td>\n",
              "      <td>No</td>\n",
              "      <td>No</td>\n",
              "      <td>No</td>\n",
              "      <td>No</td>\n",
              "      <td>No</td>\n",
              "      <td>No</td>\n",
              "      <td>No</td>\n",
              "      <td>No</td>\n",
              "      <td>No</td>\n",
              "      <td>No</td>\n",
              "      <td>No</td>\n",
              "      <td>No</td>\n",
              "      <td>No</td>\n",
              "    </tr>\n",
              "  </tbody>\n",
              "</table>\n",
              "</div>"
            ],
            "text/plain": [
              "         date  temperaturemin  temperaturemax  ...  blowingsnow  dust  freezingfog\n",
              "4  2007-01-20            26.1            48.0  ...           No    No           No\n",
              "5  2007-01-22            33.1            41.0  ...           No    No           No\n",
              "6  2007-01-24            30.0            48.9  ...           No    No           No\n",
              "7  2007-01-27            32.0            64.0  ...           No    No           No\n",
              "8  2007-01-30            24.1            48.9  ...           No    No           No\n",
              "\n",
              "[5 rows x 28 columns]"
            ]
          },
          "metadata": {
            "tags": []
          },
          "execution_count": 95
        }
      ]
    },
    {
      "cell_type": "code",
      "metadata": {
        "id": "4YpcE5IUcjnX"
      },
      "source": [
        "df2 = df2.reset_index(drop=True)"
      ],
      "execution_count": null,
      "outputs": []
    },
    {
      "cell_type": "code",
      "metadata": {
        "colab": {
          "base_uri": "https://localhost:8080/",
          "height": 308
        },
        "id": "f8wJUqW_cqgI",
        "outputId": "b2ba732e-1af2-4133-b72d-4f4737815c53"
      },
      "source": [
        "df2.head()"
      ],
      "execution_count": null,
      "outputs": [
        {
          "output_type": "execute_result",
          "data": {
            "text/html": [
              "<div>\n",
              "<style scoped>\n",
              "    .dataframe tbody tr th:only-of-type {\n",
              "        vertical-align: middle;\n",
              "    }\n",
              "\n",
              "    .dataframe tbody tr th {\n",
              "        vertical-align: top;\n",
              "    }\n",
              "\n",
              "    .dataframe thead th {\n",
              "        text-align: right;\n",
              "    }\n",
              "</style>\n",
              "<table border=\"1\" class=\"dataframe\">\n",
              "  <thead>\n",
              "    <tr style=\"text-align: right;\">\n",
              "      <th></th>\n",
              "      <th>date</th>\n",
              "      <th>temperaturemin</th>\n",
              "      <th>temperaturemax</th>\n",
              "      <th>precipitation</th>\n",
              "      <th>snowfall</th>\n",
              "      <th>snowdepth</th>\n",
              "      <th>avgwindspeed</th>\n",
              "      <th>fastest2minwinddir</th>\n",
              "      <th>fastest2minwindspeed</th>\n",
              "      <th>fastest5secwinddir</th>\n",
              "      <th>fastest5secwindspeed</th>\n",
              "      <th>fog</th>\n",
              "      <th>fogheavy</th>\n",
              "      <th>mist</th>\n",
              "      <th>rain</th>\n",
              "      <th>fogground</th>\n",
              "      <th>ice</th>\n",
              "      <th>glaze</th>\n",
              "      <th>drizzle</th>\n",
              "      <th>snow</th>\n",
              "      <th>freezingrain</th>\n",
              "      <th>smokehaze</th>\n",
              "      <th>thunder</th>\n",
              "      <th>highwind</th>\n",
              "      <th>hail</th>\n",
              "      <th>blowingsnow</th>\n",
              "      <th>dust</th>\n",
              "      <th>freezingfog</th>\n",
              "    </tr>\n",
              "  </thead>\n",
              "  <tbody>\n",
              "    <tr>\n",
              "      <th>0</th>\n",
              "      <td>2007-01-20</td>\n",
              "      <td>26.1</td>\n",
              "      <td>48.0</td>\n",
              "      <td>0.00</td>\n",
              "      <td>0.0</td>\n",
              "      <td>0.0</td>\n",
              "      <td>4.92</td>\n",
              "      <td>290.0</td>\n",
              "      <td>16.11</td>\n",
              "      <td>320.0</td>\n",
              "      <td>21.03</td>\n",
              "      <td>No</td>\n",
              "      <td>No</td>\n",
              "      <td>No</td>\n",
              "      <td>No</td>\n",
              "      <td>No</td>\n",
              "      <td>No</td>\n",
              "      <td>No</td>\n",
              "      <td>No</td>\n",
              "      <td>No</td>\n",
              "      <td>No</td>\n",
              "      <td>No</td>\n",
              "      <td>No</td>\n",
              "      <td>No</td>\n",
              "      <td>No</td>\n",
              "      <td>No</td>\n",
              "      <td>No</td>\n",
              "      <td>No</td>\n",
              "    </tr>\n",
              "    <tr>\n",
              "      <th>1</th>\n",
              "      <td>2007-01-22</td>\n",
              "      <td>33.1</td>\n",
              "      <td>41.0</td>\n",
              "      <td>0.08</td>\n",
              "      <td>0.0</td>\n",
              "      <td>0.0</td>\n",
              "      <td>2.01</td>\n",
              "      <td>230.0</td>\n",
              "      <td>8.05</td>\n",
              "      <td>10.0</td>\n",
              "      <td>12.08</td>\n",
              "      <td>Yes</td>\n",
              "      <td>No</td>\n",
              "      <td>Yes</td>\n",
              "      <td>Yes</td>\n",
              "      <td>No</td>\n",
              "      <td>No</td>\n",
              "      <td>No</td>\n",
              "      <td>Yes</td>\n",
              "      <td>No</td>\n",
              "      <td>No</td>\n",
              "      <td>No</td>\n",
              "      <td>No</td>\n",
              "      <td>No</td>\n",
              "      <td>No</td>\n",
              "      <td>No</td>\n",
              "      <td>No</td>\n",
              "      <td>No</td>\n",
              "    </tr>\n",
              "    <tr>\n",
              "      <th>2</th>\n",
              "      <td>2007-01-24</td>\n",
              "      <td>30.0</td>\n",
              "      <td>48.9</td>\n",
              "      <td>0.00</td>\n",
              "      <td>0.0</td>\n",
              "      <td>0.0</td>\n",
              "      <td>2.91</td>\n",
              "      <td>50.0</td>\n",
              "      <td>14.09</td>\n",
              "      <td>50.0</td>\n",
              "      <td>17.00</td>\n",
              "      <td>Yes</td>\n",
              "      <td>No</td>\n",
              "      <td>No</td>\n",
              "      <td>No</td>\n",
              "      <td>No</td>\n",
              "      <td>No</td>\n",
              "      <td>No</td>\n",
              "      <td>No</td>\n",
              "      <td>No</td>\n",
              "      <td>No</td>\n",
              "      <td>No</td>\n",
              "      <td>No</td>\n",
              "      <td>No</td>\n",
              "      <td>No</td>\n",
              "      <td>No</td>\n",
              "      <td>No</td>\n",
              "      <td>No</td>\n",
              "    </tr>\n",
              "    <tr>\n",
              "      <th>3</th>\n",
              "      <td>2007-01-27</td>\n",
              "      <td>32.0</td>\n",
              "      <td>64.0</td>\n",
              "      <td>0.00</td>\n",
              "      <td>0.0</td>\n",
              "      <td>0.0</td>\n",
              "      <td>11.41</td>\n",
              "      <td>230.0</td>\n",
              "      <td>19.91</td>\n",
              "      <td>230.0</td>\n",
              "      <td>23.04</td>\n",
              "      <td>No</td>\n",
              "      <td>No</td>\n",
              "      <td>No</td>\n",
              "      <td>No</td>\n",
              "      <td>No</td>\n",
              "      <td>No</td>\n",
              "      <td>No</td>\n",
              "      <td>No</td>\n",
              "      <td>No</td>\n",
              "      <td>No</td>\n",
              "      <td>No</td>\n",
              "      <td>No</td>\n",
              "      <td>No</td>\n",
              "      <td>No</td>\n",
              "      <td>No</td>\n",
              "      <td>No</td>\n",
              "      <td>No</td>\n",
              "    </tr>\n",
              "    <tr>\n",
              "      <th>4</th>\n",
              "      <td>2007-01-30</td>\n",
              "      <td>24.1</td>\n",
              "      <td>48.9</td>\n",
              "      <td>0.00</td>\n",
              "      <td>0.0</td>\n",
              "      <td>0.0</td>\n",
              "      <td>5.82</td>\n",
              "      <td>220.0</td>\n",
              "      <td>17.90</td>\n",
              "      <td>220.0</td>\n",
              "      <td>21.03</td>\n",
              "      <td>No</td>\n",
              "      <td>No</td>\n",
              "      <td>No</td>\n",
              "      <td>No</td>\n",
              "      <td>No</td>\n",
              "      <td>No</td>\n",
              "      <td>No</td>\n",
              "      <td>No</td>\n",
              "      <td>No</td>\n",
              "      <td>No</td>\n",
              "      <td>No</td>\n",
              "      <td>No</td>\n",
              "      <td>No</td>\n",
              "      <td>No</td>\n",
              "      <td>No</td>\n",
              "      <td>No</td>\n",
              "      <td>No</td>\n",
              "    </tr>\n",
              "  </tbody>\n",
              "</table>\n",
              "</div>"
            ],
            "text/plain": [
              "         date  temperaturemin  temperaturemax  ...  blowingsnow  dust  freezingfog\n",
              "0  2007-01-20            26.1            48.0  ...           No    No           No\n",
              "1  2007-01-22            33.1            41.0  ...           No    No           No\n",
              "2  2007-01-24            30.0            48.9  ...           No    No           No\n",
              "3  2007-01-27            32.0            64.0  ...           No    No           No\n",
              "4  2007-01-30            24.1            48.9  ...           No    No           No\n",
              "\n",
              "[5 rows x 28 columns]"
            ]
          },
          "metadata": {
            "tags": []
          },
          "execution_count": 99
        }
      ]
    },
    {
      "cell_type": "code",
      "metadata": {
        "colab": {
          "base_uri": "https://localhost:8080/"
        },
        "id": "XmsiQqCRdHuj",
        "outputId": "49e17be1-d09f-4c4f-e82a-aa88746634f0"
      },
      "source": [
        "df2.columns"
      ],
      "execution_count": null,
      "outputs": [
        {
          "output_type": "execute_result",
          "data": {
            "text/plain": [
              "Index(['date', 'temperaturemin', 'temperaturemax', 'precipitation', 'snowfall',\n",
              "       'snowdepth', 'avgwindspeed', 'fastest2minwinddir',\n",
              "       'fastest2minwindspeed', 'fastest5secwinddir', 'fastest5secwindspeed',\n",
              "       'fog', 'fogheavy', 'mist', 'rain', 'fogground', 'ice', 'glaze',\n",
              "       'drizzle', 'snow', 'freezingrain', 'smokehaze', 'thunder', 'highwind',\n",
              "       'hail', 'blowingsnow', 'dust', 'freezingfog'],\n",
              "      dtype='object')"
            ]
          },
          "metadata": {
            "tags": []
          },
          "execution_count": 100
        }
      ]
    },
    {
      "cell_type": "code",
      "metadata": {
        "id": "JteUyZBIdUGh"
      },
      "source": [
        "nova_ordem = ['temperaturemin', 'temperaturemax','date', 'precipitation', 'snowfall',\n",
        "       'snowdepth', 'avgwindspeed', 'fastest2minwinddir',\n",
        "       'fastest2minwindspeed', 'fastest5secwinddir', 'fastest5secwindspeed',\n",
        "       'fog', 'fogheavy', 'mist', 'rain', 'fogground', 'ice', 'glaze',\n",
        "       'drizzle', 'snow', 'freezingrain', 'smokehaze', 'thunder', 'highwind',\n",
        "       'hail', 'blowingsnow', 'dust', 'freezingfog']"
      ],
      "execution_count": null,
      "outputs": []
    },
    {
      "cell_type": "code",
      "metadata": {
        "id": "nvOJpWrWdfq6"
      },
      "source": [
        "df2 = df2[nova_ordem]"
      ],
      "execution_count": null,
      "outputs": []
    },
    {
      "cell_type": "code",
      "metadata": {
        "id": "2Wv51n1hdjs_"
      },
      "source": [
        "df2.head()"
      ],
      "execution_count": null,
      "outputs": []
    },
    {
      "cell_type": "code",
      "metadata": {
        "colab": {
          "base_uri": "https://localhost:8080/"
        },
        "id": "36RU96KRdo6g",
        "outputId": "8c7f4526-eaca-45bf-fd33-1af95eb3f6f3"
      },
      "source": [
        "len(df2.columns)"
      ],
      "execution_count": null,
      "outputs": [
        {
          "output_type": "execute_result",
          "data": {
            "text/plain": [
              "28"
            ]
          },
          "metadata": {
            "tags": []
          },
          "execution_count": 106
        }
      ]
    },
    {
      "cell_type": "code",
      "metadata": {
        "colab": {
          "base_uri": "https://localhost:8080/"
        },
        "id": "WXabGQkld1If",
        "outputId": "db50d418-caca-4754-9246-0dcff88bd72b"
      },
      "source": [
        "np.linspace(0,27,28,dtype=int)"
      ],
      "execution_count": null,
      "outputs": [
        {
          "output_type": "execute_result",
          "data": {
            "text/plain": [
              "array([ 0,  1,  2,  3,  4,  5,  6,  7,  8,  9, 10, 11, 12, 13, 14, 15, 16,\n",
              "       17, 18, 19, 20, 21, 22, 23, 24, 25, 26, 27])"
            ]
          },
          "metadata": {
            "tags": []
          },
          "execution_count": 107
        }
      ]
    },
    {
      "cell_type": "code",
      "metadata": {
        "id": "E7hLi3gJeCoP"
      },
      "source": [
        "nova_ordem = [2, 0,  1,  3,  4,  5,  6,  7,  8,  9, 10, 11, 12, 13, 14, 15, 16,\n",
        "       17, 18, 19, 20, 21, 22, 23, 24, 25, 26, 27]"
      ],
      "execution_count": null,
      "outputs": []
    },
    {
      "cell_type": "code",
      "metadata": {
        "colab": {
          "base_uri": "https://localhost:8080/",
          "height": 308
        },
        "id": "LA8c1rkKeM0M",
        "outputId": "b88fdcff-1793-4ca6-9a19-74b24bcc6b7e"
      },
      "source": [
        "df2 = df2[df2.columns[nova_ordem]]\n",
        "df2.head()"
      ],
      "execution_count": null,
      "outputs": [
        {
          "output_type": "execute_result",
          "data": {
            "text/html": [
              "<div>\n",
              "<style scoped>\n",
              "    .dataframe tbody tr th:only-of-type {\n",
              "        vertical-align: middle;\n",
              "    }\n",
              "\n",
              "    .dataframe tbody tr th {\n",
              "        vertical-align: top;\n",
              "    }\n",
              "\n",
              "    .dataframe thead th {\n",
              "        text-align: right;\n",
              "    }\n",
              "</style>\n",
              "<table border=\"1\" class=\"dataframe\">\n",
              "  <thead>\n",
              "    <tr style=\"text-align: right;\">\n",
              "      <th></th>\n",
              "      <th>date</th>\n",
              "      <th>temperaturemin</th>\n",
              "      <th>temperaturemax</th>\n",
              "      <th>precipitation</th>\n",
              "      <th>snowfall</th>\n",
              "      <th>snowdepth</th>\n",
              "      <th>avgwindspeed</th>\n",
              "      <th>fastest2minwinddir</th>\n",
              "      <th>fastest2minwindspeed</th>\n",
              "      <th>fastest5secwinddir</th>\n",
              "      <th>fastest5secwindspeed</th>\n",
              "      <th>fog</th>\n",
              "      <th>fogheavy</th>\n",
              "      <th>mist</th>\n",
              "      <th>rain</th>\n",
              "      <th>fogground</th>\n",
              "      <th>ice</th>\n",
              "      <th>glaze</th>\n",
              "      <th>drizzle</th>\n",
              "      <th>snow</th>\n",
              "      <th>freezingrain</th>\n",
              "      <th>smokehaze</th>\n",
              "      <th>thunder</th>\n",
              "      <th>highwind</th>\n",
              "      <th>hail</th>\n",
              "      <th>blowingsnow</th>\n",
              "      <th>dust</th>\n",
              "      <th>freezingfog</th>\n",
              "    </tr>\n",
              "  </thead>\n",
              "  <tbody>\n",
              "    <tr>\n",
              "      <th>0</th>\n",
              "      <td>2007-01-20</td>\n",
              "      <td>26.1</td>\n",
              "      <td>48.0</td>\n",
              "      <td>0.00</td>\n",
              "      <td>0.0</td>\n",
              "      <td>0.0</td>\n",
              "      <td>4.92</td>\n",
              "      <td>290.0</td>\n",
              "      <td>16.11</td>\n",
              "      <td>320.0</td>\n",
              "      <td>21.03</td>\n",
              "      <td>No</td>\n",
              "      <td>No</td>\n",
              "      <td>No</td>\n",
              "      <td>No</td>\n",
              "      <td>No</td>\n",
              "      <td>No</td>\n",
              "      <td>No</td>\n",
              "      <td>No</td>\n",
              "      <td>No</td>\n",
              "      <td>No</td>\n",
              "      <td>No</td>\n",
              "      <td>No</td>\n",
              "      <td>No</td>\n",
              "      <td>No</td>\n",
              "      <td>No</td>\n",
              "      <td>No</td>\n",
              "      <td>No</td>\n",
              "    </tr>\n",
              "    <tr>\n",
              "      <th>1</th>\n",
              "      <td>2007-01-22</td>\n",
              "      <td>33.1</td>\n",
              "      <td>41.0</td>\n",
              "      <td>0.08</td>\n",
              "      <td>0.0</td>\n",
              "      <td>0.0</td>\n",
              "      <td>2.01</td>\n",
              "      <td>230.0</td>\n",
              "      <td>8.05</td>\n",
              "      <td>10.0</td>\n",
              "      <td>12.08</td>\n",
              "      <td>Yes</td>\n",
              "      <td>No</td>\n",
              "      <td>Yes</td>\n",
              "      <td>Yes</td>\n",
              "      <td>No</td>\n",
              "      <td>No</td>\n",
              "      <td>No</td>\n",
              "      <td>Yes</td>\n",
              "      <td>No</td>\n",
              "      <td>No</td>\n",
              "      <td>No</td>\n",
              "      <td>No</td>\n",
              "      <td>No</td>\n",
              "      <td>No</td>\n",
              "      <td>No</td>\n",
              "      <td>No</td>\n",
              "      <td>No</td>\n",
              "    </tr>\n",
              "    <tr>\n",
              "      <th>2</th>\n",
              "      <td>2007-01-24</td>\n",
              "      <td>30.0</td>\n",
              "      <td>48.9</td>\n",
              "      <td>0.00</td>\n",
              "      <td>0.0</td>\n",
              "      <td>0.0</td>\n",
              "      <td>2.91</td>\n",
              "      <td>50.0</td>\n",
              "      <td>14.09</td>\n",
              "      <td>50.0</td>\n",
              "      <td>17.00</td>\n",
              "      <td>Yes</td>\n",
              "      <td>No</td>\n",
              "      <td>No</td>\n",
              "      <td>No</td>\n",
              "      <td>No</td>\n",
              "      <td>No</td>\n",
              "      <td>No</td>\n",
              "      <td>No</td>\n",
              "      <td>No</td>\n",
              "      <td>No</td>\n",
              "      <td>No</td>\n",
              "      <td>No</td>\n",
              "      <td>No</td>\n",
              "      <td>No</td>\n",
              "      <td>No</td>\n",
              "      <td>No</td>\n",
              "      <td>No</td>\n",
              "    </tr>\n",
              "    <tr>\n",
              "      <th>3</th>\n",
              "      <td>2007-01-27</td>\n",
              "      <td>32.0</td>\n",
              "      <td>64.0</td>\n",
              "      <td>0.00</td>\n",
              "      <td>0.0</td>\n",
              "      <td>0.0</td>\n",
              "      <td>11.41</td>\n",
              "      <td>230.0</td>\n",
              "      <td>19.91</td>\n",
              "      <td>230.0</td>\n",
              "      <td>23.04</td>\n",
              "      <td>No</td>\n",
              "      <td>No</td>\n",
              "      <td>No</td>\n",
              "      <td>No</td>\n",
              "      <td>No</td>\n",
              "      <td>No</td>\n",
              "      <td>No</td>\n",
              "      <td>No</td>\n",
              "      <td>No</td>\n",
              "      <td>No</td>\n",
              "      <td>No</td>\n",
              "      <td>No</td>\n",
              "      <td>No</td>\n",
              "      <td>No</td>\n",
              "      <td>No</td>\n",
              "      <td>No</td>\n",
              "      <td>No</td>\n",
              "    </tr>\n",
              "    <tr>\n",
              "      <th>4</th>\n",
              "      <td>2007-01-30</td>\n",
              "      <td>24.1</td>\n",
              "      <td>48.9</td>\n",
              "      <td>0.00</td>\n",
              "      <td>0.0</td>\n",
              "      <td>0.0</td>\n",
              "      <td>5.82</td>\n",
              "      <td>220.0</td>\n",
              "      <td>17.90</td>\n",
              "      <td>220.0</td>\n",
              "      <td>21.03</td>\n",
              "      <td>No</td>\n",
              "      <td>No</td>\n",
              "      <td>No</td>\n",
              "      <td>No</td>\n",
              "      <td>No</td>\n",
              "      <td>No</td>\n",
              "      <td>No</td>\n",
              "      <td>No</td>\n",
              "      <td>No</td>\n",
              "      <td>No</td>\n",
              "      <td>No</td>\n",
              "      <td>No</td>\n",
              "      <td>No</td>\n",
              "      <td>No</td>\n",
              "      <td>No</td>\n",
              "      <td>No</td>\n",
              "      <td>No</td>\n",
              "    </tr>\n",
              "  </tbody>\n",
              "</table>\n",
              "</div>"
            ],
            "text/plain": [
              "         date  temperaturemin  temperaturemax  ...  blowingsnow  dust  freezingfog\n",
              "0  2007-01-20            26.1            48.0  ...           No    No           No\n",
              "1  2007-01-22            33.1            41.0  ...           No    No           No\n",
              "2  2007-01-24            30.0            48.9  ...           No    No           No\n",
              "3  2007-01-27            32.0            64.0  ...           No    No           No\n",
              "4  2007-01-30            24.1            48.9  ...           No    No           No\n",
              "\n",
              "[5 rows x 28 columns]"
            ]
          },
          "metadata": {
            "tags": []
          },
          "execution_count": 113
        }
      ]
    },
    {
      "cell_type": "code",
      "metadata": {
        "colab": {
          "base_uri": "https://localhost:8080/"
        },
        "id": "bAmbztlDePXG",
        "outputId": "f893da69-f2e4-423a-deec-a1e51b73cfeb"
      },
      "source": [
        "df2['date']"
      ],
      "execution_count": null,
      "outputs": [
        {
          "output_type": "execute_result",
          "data": {
            "text/plain": [
              "0       2007-01-20\n",
              "1       2007-01-22\n",
              "2       2007-01-24\n",
              "3       2007-01-27\n",
              "4       2007-01-30\n",
              "           ...    \n",
              "4606    2019-07-06\n",
              "4607    2019-07-20\n",
              "4608    2019-07-31\n",
              "4609    2019-08-13\n",
              "4610    2019-08-18\n",
              "Name: date, Length: 4611, dtype: object"
            ]
          },
          "metadata": {
            "tags": []
          },
          "execution_count": 114
        }
      ]
    },
    {
      "cell_type": "code",
      "metadata": {
        "colab": {
          "base_uri": "https://localhost:8080/"
        },
        "id": "06vykwM3fBn9",
        "outputId": "7111b62d-3cb8-4c66-d033-894b05b2727a"
      },
      "source": [
        "df2.loc[4606][0],df2.iloc[4606][0]"
      ],
      "execution_count": null,
      "outputs": [
        {
          "output_type": "execute_result",
          "data": {
            "text/plain": [
              "('2019-07-06', '2019-07-06')"
            ]
          },
          "metadata": {
            "tags": []
          },
          "execution_count": 117
        }
      ]
    },
    {
      "cell_type": "code",
      "metadata": {
        "colab": {
          "base_uri": "https://localhost:8080/"
        },
        "id": "hUV3TmQufcmH",
        "outputId": "dd1fa795-1a97-4c54-ce65-23909ed1f865"
      },
      "source": [
        "df2.loc[4606]['date'],df2.iloc[4606]['date']"
      ],
      "execution_count": null,
      "outputs": [
        {
          "output_type": "execute_result",
          "data": {
            "text/plain": [
              "('2019-07-06', '2019-07-06')"
            ]
          },
          "metadata": {
            "tags": []
          },
          "execution_count": 118
        }
      ]
    },
    {
      "cell_type": "code",
      "metadata": {
        "id": "rVcUAYmyf0zm"
      },
      "source": [
        "s = pd.DataFrame(['a','b','c','d','e','f'],index = [49,48,47,0,1,2])"
      ],
      "execution_count": null,
      "outputs": []
    },
    {
      "cell_type": "code",
      "metadata": {
        "colab": {
          "base_uri": "https://localhost:8080/",
          "height": 234
        },
        "id": "Pk7jz0mTgNvs",
        "outputId": "1a727066-5df5-4c38-91d0-89a120f7d0fe"
      },
      "source": [
        "s"
      ],
      "execution_count": null,
      "outputs": [
        {
          "output_type": "execute_result",
          "data": {
            "text/html": [
              "<div>\n",
              "<style scoped>\n",
              "    .dataframe tbody tr th:only-of-type {\n",
              "        vertical-align: middle;\n",
              "    }\n",
              "\n",
              "    .dataframe tbody tr th {\n",
              "        vertical-align: top;\n",
              "    }\n",
              "\n",
              "    .dataframe thead th {\n",
              "        text-align: right;\n",
              "    }\n",
              "</style>\n",
              "<table border=\"1\" class=\"dataframe\">\n",
              "  <thead>\n",
              "    <tr style=\"text-align: right;\">\n",
              "      <th></th>\n",
              "      <th>0</th>\n",
              "    </tr>\n",
              "  </thead>\n",
              "  <tbody>\n",
              "    <tr>\n",
              "      <th>49</th>\n",
              "      <td>a</td>\n",
              "    </tr>\n",
              "    <tr>\n",
              "      <th>48</th>\n",
              "      <td>b</td>\n",
              "    </tr>\n",
              "    <tr>\n",
              "      <th>47</th>\n",
              "      <td>c</td>\n",
              "    </tr>\n",
              "    <tr>\n",
              "      <th>0</th>\n",
              "      <td>d</td>\n",
              "    </tr>\n",
              "    <tr>\n",
              "      <th>1</th>\n",
              "      <td>e</td>\n",
              "    </tr>\n",
              "    <tr>\n",
              "      <th>2</th>\n",
              "      <td>f</td>\n",
              "    </tr>\n",
              "  </tbody>\n",
              "</table>\n",
              "</div>"
            ],
            "text/plain": [
              "    0\n",
              "49  a\n",
              "48  b\n",
              "47  c\n",
              "0   d\n",
              "1   e\n",
              "2   f"
            ]
          },
          "metadata": {
            "tags": []
          },
          "execution_count": 121
        }
      ]
    },
    {
      "cell_type": "code",
      "metadata": {
        "colab": {
          "base_uri": "https://localhost:8080/"
        },
        "id": "u3AFMlZsgYbU",
        "outputId": "c90f5fcf-0474-467a-da23-5d43c2625807"
      },
      "source": [
        "s.loc[0]"
      ],
      "execution_count": null,
      "outputs": [
        {
          "output_type": "execute_result",
          "data": {
            "text/plain": [
              "0    d\n",
              "Name: 0, dtype: object"
            ]
          },
          "metadata": {
            "tags": []
          },
          "execution_count": 124
        }
      ]
    },
    {
      "cell_type": "code",
      "metadata": {
        "colab": {
          "base_uri": "https://localhost:8080/"
        },
        "id": "mxLhbdoUgehK",
        "outputId": "21579344-12d2-4fac-9966-4c6a16e7bf57"
      },
      "source": [
        "s.iloc[0]"
      ],
      "execution_count": null,
      "outputs": [
        {
          "output_type": "execute_result",
          "data": {
            "text/plain": [
              "0    a\n",
              "Name: 49, dtype: object"
            ]
          },
          "metadata": {
            "tags": []
          },
          "execution_count": 125
        }
      ]
    },
    {
      "cell_type": "code",
      "metadata": {
        "colab": {
          "base_uri": "https://localhost:8080/",
          "height": 308
        },
        "id": "XgBxEwITgija",
        "outputId": "4416a8fc-32e0-40e5-d213-3814872f7857"
      },
      "source": [
        "dados.head()"
      ],
      "execution_count": null,
      "outputs": [
        {
          "output_type": "execute_result",
          "data": {
            "text/html": [
              "<div>\n",
              "<style scoped>\n",
              "    .dataframe tbody tr th:only-of-type {\n",
              "        vertical-align: middle;\n",
              "    }\n",
              "\n",
              "    .dataframe tbody tr th {\n",
              "        vertical-align: top;\n",
              "    }\n",
              "\n",
              "    .dataframe thead th {\n",
              "        text-align: right;\n",
              "    }\n",
              "</style>\n",
              "<table border=\"1\" class=\"dataframe\">\n",
              "  <thead>\n",
              "    <tr style=\"text-align: right;\">\n",
              "      <th></th>\n",
              "      <th>date</th>\n",
              "      <th>temperaturemin</th>\n",
              "      <th>temperaturemax</th>\n",
              "      <th>precipitation</th>\n",
              "      <th>snowfall</th>\n",
              "      <th>snowdepth</th>\n",
              "      <th>avgwindspeed</th>\n",
              "      <th>fastest2minwinddir</th>\n",
              "      <th>fastest2minwindspeed</th>\n",
              "      <th>fastest5secwinddir</th>\n",
              "      <th>fastest5secwindspeed</th>\n",
              "      <th>fog</th>\n",
              "      <th>fogheavy</th>\n",
              "      <th>mist</th>\n",
              "      <th>rain</th>\n",
              "      <th>fogground</th>\n",
              "      <th>ice</th>\n",
              "      <th>glaze</th>\n",
              "      <th>drizzle</th>\n",
              "      <th>snow</th>\n",
              "      <th>freezingrain</th>\n",
              "      <th>smokehaze</th>\n",
              "      <th>thunder</th>\n",
              "      <th>highwind</th>\n",
              "      <th>hail</th>\n",
              "      <th>blowingsnow</th>\n",
              "      <th>dust</th>\n",
              "      <th>freezingfog</th>\n",
              "    </tr>\n",
              "  </thead>\n",
              "  <tbody>\n",
              "    <tr>\n",
              "      <th>0</th>\n",
              "      <td>2007-01-06</td>\n",
              "      <td>50.0</td>\n",
              "      <td>71.1</td>\n",
              "      <td>0.13</td>\n",
              "      <td>0.0</td>\n",
              "      <td>0.0</td>\n",
              "      <td>8.05</td>\n",
              "      <td>230.0</td>\n",
              "      <td>17.90</td>\n",
              "      <td>230.0</td>\n",
              "      <td>21.92</td>\n",
              "      <td>Yes</td>\n",
              "      <td>No</td>\n",
              "      <td>Yes</td>\n",
              "      <td>Yes</td>\n",
              "      <td>No</td>\n",
              "      <td>No</td>\n",
              "      <td>No</td>\n",
              "      <td>No</td>\n",
              "      <td>No</td>\n",
              "      <td>No</td>\n",
              "      <td>No</td>\n",
              "      <td>No</td>\n",
              "      <td>No</td>\n",
              "      <td>No</td>\n",
              "      <td>No</td>\n",
              "      <td>No</td>\n",
              "      <td>No</td>\n",
              "    </tr>\n",
              "    <tr>\n",
              "      <th>1</th>\n",
              "      <td>2007-01-09</td>\n",
              "      <td>30.0</td>\n",
              "      <td>55.0</td>\n",
              "      <td>0.00</td>\n",
              "      <td>0.0</td>\n",
              "      <td>0.0</td>\n",
              "      <td>7.61</td>\n",
              "      <td>280.0</td>\n",
              "      <td>23.04</td>\n",
              "      <td>270.0</td>\n",
              "      <td>29.08</td>\n",
              "      <td>No</td>\n",
              "      <td>No</td>\n",
              "      <td>No</td>\n",
              "      <td>Yes</td>\n",
              "      <td>No</td>\n",
              "      <td>No</td>\n",
              "      <td>No</td>\n",
              "      <td>No</td>\n",
              "      <td>No</td>\n",
              "      <td>No</td>\n",
              "      <td>No</td>\n",
              "      <td>No</td>\n",
              "      <td>No</td>\n",
              "      <td>No</td>\n",
              "      <td>No</td>\n",
              "      <td>No</td>\n",
              "      <td>No</td>\n",
              "    </tr>\n",
              "    <tr>\n",
              "      <th>2</th>\n",
              "      <td>2007-01-14</td>\n",
              "      <td>50.0</td>\n",
              "      <td>73.9</td>\n",
              "      <td>0.00</td>\n",
              "      <td>0.0</td>\n",
              "      <td>0.0</td>\n",
              "      <td>8.50</td>\n",
              "      <td>230.0</td>\n",
              "      <td>21.03</td>\n",
              "      <td>230.0</td>\n",
              "      <td>25.05</td>\n",
              "      <td>No</td>\n",
              "      <td>No</td>\n",
              "      <td>No</td>\n",
              "      <td>No</td>\n",
              "      <td>No</td>\n",
              "      <td>No</td>\n",
              "      <td>No</td>\n",
              "      <td>No</td>\n",
              "      <td>No</td>\n",
              "      <td>No</td>\n",
              "      <td>No</td>\n",
              "      <td>No</td>\n",
              "      <td>No</td>\n",
              "      <td>No</td>\n",
              "      <td>No</td>\n",
              "      <td>No</td>\n",
              "      <td>No</td>\n",
              "    </tr>\n",
              "    <tr>\n",
              "      <th>3</th>\n",
              "      <td>2007-01-15</td>\n",
              "      <td>57.0</td>\n",
              "      <td>73.9</td>\n",
              "      <td>0.00</td>\n",
              "      <td>0.0</td>\n",
              "      <td>0.0</td>\n",
              "      <td>13.20</td>\n",
              "      <td>230.0</td>\n",
              "      <td>23.94</td>\n",
              "      <td>230.0</td>\n",
              "      <td>29.08</td>\n",
              "      <td>No</td>\n",
              "      <td>No</td>\n",
              "      <td>No</td>\n",
              "      <td>No</td>\n",
              "      <td>No</td>\n",
              "      <td>No</td>\n",
              "      <td>No</td>\n",
              "      <td>No</td>\n",
              "      <td>No</td>\n",
              "      <td>No</td>\n",
              "      <td>No</td>\n",
              "      <td>No</td>\n",
              "      <td>No</td>\n",
              "      <td>No</td>\n",
              "      <td>No</td>\n",
              "      <td>No</td>\n",
              "      <td>No</td>\n",
              "    </tr>\n",
              "    <tr>\n",
              "      <th>4</th>\n",
              "      <td>2007-01-20</td>\n",
              "      <td>26.1</td>\n",
              "      <td>48.0</td>\n",
              "      <td>0.00</td>\n",
              "      <td>0.0</td>\n",
              "      <td>0.0</td>\n",
              "      <td>4.92</td>\n",
              "      <td>290.0</td>\n",
              "      <td>16.11</td>\n",
              "      <td>320.0</td>\n",
              "      <td>21.03</td>\n",
              "      <td>No</td>\n",
              "      <td>No</td>\n",
              "      <td>No</td>\n",
              "      <td>No</td>\n",
              "      <td>No</td>\n",
              "      <td>No</td>\n",
              "      <td>No</td>\n",
              "      <td>No</td>\n",
              "      <td>No</td>\n",
              "      <td>No</td>\n",
              "      <td>No</td>\n",
              "      <td>No</td>\n",
              "      <td>No</td>\n",
              "      <td>No</td>\n",
              "      <td>No</td>\n",
              "      <td>No</td>\n",
              "      <td>No</td>\n",
              "    </tr>\n",
              "  </tbody>\n",
              "</table>\n",
              "</div>"
            ],
            "text/plain": [
              "         date  temperaturemin  temperaturemax  ...  blowingsnow  dust  freezingfog\n",
              "0  2007-01-06            50.0            71.1  ...           No    No           No\n",
              "1  2007-01-09            30.0            55.0  ...           No    No           No\n",
              "2  2007-01-14            50.0            73.9  ...           No    No           No\n",
              "3  2007-01-15            57.0            73.9  ...           No    No           No\n",
              "4  2007-01-20            26.1            48.0  ...           No    No           No\n",
              "\n",
              "[5 rows x 28 columns]"
            ]
          },
          "metadata": {
            "tags": []
          },
          "execution_count": 126
        }
      ]
    },
    {
      "cell_type": "code",
      "metadata": {
        "colab": {
          "base_uri": "https://localhost:8080/",
          "height": 316
        },
        "id": "g9-D7KikguOK",
        "outputId": "0238152a-fa5a-428a-b897-ea912a8f76c5"
      },
      "source": [
        "dados.describe()"
      ],
      "execution_count": null,
      "outputs": [
        {
          "output_type": "execute_result",
          "data": {
            "text/html": [
              "<div>\n",
              "<style scoped>\n",
              "    .dataframe tbody tr th:only-of-type {\n",
              "        vertical-align: middle;\n",
              "    }\n",
              "\n",
              "    .dataframe tbody tr th {\n",
              "        vertical-align: top;\n",
              "    }\n",
              "\n",
              "    .dataframe thead th {\n",
              "        text-align: right;\n",
              "    }\n",
              "</style>\n",
              "<table border=\"1\" class=\"dataframe\">\n",
              "  <thead>\n",
              "    <tr style=\"text-align: right;\">\n",
              "      <th></th>\n",
              "      <th>temperaturemin</th>\n",
              "      <th>temperaturemax</th>\n",
              "      <th>precipitation</th>\n",
              "      <th>snowfall</th>\n",
              "      <th>snowdepth</th>\n",
              "      <th>avgwindspeed</th>\n",
              "      <th>fastest2minwinddir</th>\n",
              "      <th>fastest2minwindspeed</th>\n",
              "      <th>fastest5secwinddir</th>\n",
              "      <th>fastest5secwindspeed</th>\n",
              "    </tr>\n",
              "  </thead>\n",
              "  <tbody>\n",
              "    <tr>\n",
              "      <th>count</th>\n",
              "      <td>4615.000000</td>\n",
              "      <td>4615.000000</td>\n",
              "      <td>4615.000000</td>\n",
              "      <td>4615.000000</td>\n",
              "      <td>4615.000000</td>\n",
              "      <td>4611.000000</td>\n",
              "      <td>4612.000000</td>\n",
              "      <td>4612.000000</td>\n",
              "      <td>4595.000000</td>\n",
              "      <td>4595.000000</td>\n",
              "    </tr>\n",
              "    <tr>\n",
              "      <th>mean</th>\n",
              "      <td>51.067627</td>\n",
              "      <td>72.404659</td>\n",
              "      <td>0.129820</td>\n",
              "      <td>0.013545</td>\n",
              "      <td>0.017200</td>\n",
              "      <td>5.866122</td>\n",
              "      <td>172.977016</td>\n",
              "      <td>15.975425</td>\n",
              "      <td>176.903156</td>\n",
              "      <td>21.839027</td>\n",
              "    </tr>\n",
              "    <tr>\n",
              "      <th>std</th>\n",
              "      <td>16.253844</td>\n",
              "      <td>16.552399</td>\n",
              "      <td>0.371859</td>\n",
              "      <td>0.213391</td>\n",
              "      <td>0.211172</td>\n",
              "      <td>2.937569</td>\n",
              "      <td>94.105643</td>\n",
              "      <td>5.245898</td>\n",
              "      <td>96.280446</td>\n",
              "      <td>7.077250</td>\n",
              "    </tr>\n",
              "    <tr>\n",
              "      <th>min</th>\n",
              "      <td>4.100000</td>\n",
              "      <td>23.200000</td>\n",
              "      <td>0.000000</td>\n",
              "      <td>0.000000</td>\n",
              "      <td>0.000000</td>\n",
              "      <td>0.000000</td>\n",
              "      <td>10.000000</td>\n",
              "      <td>4.920000</td>\n",
              "      <td>10.000000</td>\n",
              "      <td>6.930000</td>\n",
              "    </tr>\n",
              "    <tr>\n",
              "      <th>25%</th>\n",
              "      <td>37.000000</td>\n",
              "      <td>60.100000</td>\n",
              "      <td>0.000000</td>\n",
              "      <td>0.000000</td>\n",
              "      <td>0.000000</td>\n",
              "      <td>3.800000</td>\n",
              "      <td>80.000000</td>\n",
              "      <td>12.970000</td>\n",
              "      <td>90.000000</td>\n",
              "      <td>17.000000</td>\n",
              "    </tr>\n",
              "    <tr>\n",
              "      <th>50%</th>\n",
              "      <td>53.100000</td>\n",
              "      <td>75.000000</td>\n",
              "      <td>0.000000</td>\n",
              "      <td>0.000000</td>\n",
              "      <td>0.000000</td>\n",
              "      <td>5.370000</td>\n",
              "      <td>210.000000</td>\n",
              "      <td>14.990000</td>\n",
              "      <td>210.000000</td>\n",
              "      <td>21.030000</td>\n",
              "    </tr>\n",
              "    <tr>\n",
              "      <th>75%</th>\n",
              "      <td>66.000000</td>\n",
              "      <td>87.100000</td>\n",
              "      <td>0.050000</td>\n",
              "      <td>0.000000</td>\n",
              "      <td>0.000000</td>\n",
              "      <td>7.610000</td>\n",
              "      <td>240.000000</td>\n",
              "      <td>18.120000</td>\n",
              "      <td>240.000000</td>\n",
              "      <td>25.050000</td>\n",
              "    </tr>\n",
              "    <tr>\n",
              "      <th>max</th>\n",
              "      <td>80.100000</td>\n",
              "      <td>105.100000</td>\n",
              "      <td>6.450000</td>\n",
              "      <td>7.010000</td>\n",
              "      <td>5.910000</td>\n",
              "      <td>20.360000</td>\n",
              "      <td>360.000000</td>\n",
              "      <td>59.950000</td>\n",
              "      <td>360.000000</td>\n",
              "      <td>86.120000</td>\n",
              "    </tr>\n",
              "  </tbody>\n",
              "</table>\n",
              "</div>"
            ],
            "text/plain": [
              "       temperaturemin  temperaturemax  ...  fastest5secwinddir  fastest5secwindspeed\n",
              "count     4615.000000     4615.000000  ...         4595.000000           4595.000000\n",
              "mean        51.067627       72.404659  ...          176.903156             21.839027\n",
              "std         16.253844       16.552399  ...           96.280446              7.077250\n",
              "min          4.100000       23.200000  ...           10.000000              6.930000\n",
              "25%         37.000000       60.100000  ...           90.000000             17.000000\n",
              "50%         53.100000       75.000000  ...          210.000000             21.030000\n",
              "75%         66.000000       87.100000  ...          240.000000             25.050000\n",
              "max         80.100000      105.100000  ...          360.000000             86.120000\n",
              "\n",
              "[8 rows x 10 columns]"
            ]
          },
          "metadata": {
            "tags": []
          },
          "execution_count": 127
        }
      ]
    },
    {
      "cell_type": "code",
      "metadata": {
        "id": "e_w7rpCCg-F3"
      },
      "source": [
        "dadosb = dados"
      ],
      "execution_count": null,
      "outputs": []
    },
    {
      "cell_type": "code",
      "metadata": {
        "colab": {
          "base_uri": "https://localhost:8080/"
        },
        "id": "NyxbLBUthd24",
        "outputId": "b992455a-ff30-461d-f5ad-4e7399d896ae"
      },
      "source": [
        "dadosb['temperaturemin'][0],dados['temperaturemin'][0]"
      ],
      "execution_count": null,
      "outputs": [
        {
          "output_type": "execute_result",
          "data": {
            "text/plain": [
              "(50.0, 50.0)"
            ]
          },
          "metadata": {
            "tags": []
          },
          "execution_count": 130
        }
      ]
    },
    {
      "cell_type": "code",
      "metadata": {
        "colab": {
          "base_uri": "https://localhost:8080/"
        },
        "id": "xEsITf7PhjzW",
        "outputId": "8d2c6edf-8b40-42d0-d979-a7caa0e5908e"
      },
      "source": [
        "dadosb['temperaturemin'][0] = 70"
      ],
      "execution_count": null,
      "outputs": [
        {
          "output_type": "stream",
          "text": [
            "/usr/local/lib/python3.7/dist-packages/ipykernel_launcher.py:1: SettingWithCopyWarning: \n",
            "A value is trying to be set on a copy of a slice from a DataFrame\n",
            "\n",
            "See the caveats in the documentation: https://pandas.pydata.org/pandas-docs/stable/user_guide/indexing.html#returning-a-view-versus-a-copy\n",
            "  \"\"\"Entry point for launching an IPython kernel.\n"
          ],
          "name": "stderr"
        }
      ]
    },
    {
      "cell_type": "code",
      "metadata": {
        "colab": {
          "base_uri": "https://localhost:8080/"
        },
        "id": "4L6kVuQThp45",
        "outputId": "56617112-1a6c-41fd-c45b-021b553e1030"
      },
      "source": [
        "dadosb['temperaturemin'][0],dados['temperaturemin'][0]"
      ],
      "execution_count": null,
      "outputs": [
        {
          "output_type": "execute_result",
          "data": {
            "text/plain": [
              "(70.0, 70.0)"
            ]
          },
          "metadata": {
            "tags": []
          },
          "execution_count": 132
        }
      ]
    },
    {
      "cell_type": "code",
      "metadata": {
        "id": "y_xbTZXghsGA"
      },
      "source": [
        "dadosb = dados.copy()"
      ],
      "execution_count": null,
      "outputs": []
    },
    {
      "cell_type": "code",
      "metadata": {
        "colab": {
          "base_uri": "https://localhost:8080/"
        },
        "id": "6IFrILevh19i",
        "outputId": "066b4e04-dfb8-4a62-89ff-e18d6ed4ecd1"
      },
      "source": [
        "dados['temperaturemin'][0] = 50"
      ],
      "execution_count": null,
      "outputs": [
        {
          "output_type": "stream",
          "text": [
            "/usr/local/lib/python3.7/dist-packages/ipykernel_launcher.py:1: SettingWithCopyWarning: \n",
            "A value is trying to be set on a copy of a slice from a DataFrame\n",
            "\n",
            "See the caveats in the documentation: https://pandas.pydata.org/pandas-docs/stable/user_guide/indexing.html#returning-a-view-versus-a-copy\n",
            "  \"\"\"Entry point for launching an IPython kernel.\n"
          ],
          "name": "stderr"
        }
      ]
    },
    {
      "cell_type": "code",
      "metadata": {
        "colab": {
          "base_uri": "https://localhost:8080/"
        },
        "id": "LIS0IdYBh5g4",
        "outputId": "e45da059-fa89-4dfd-aca6-8750e317c57e"
      },
      "source": [
        "dadosb['temperaturemin'][0],dados['temperaturemin'][0]"
      ],
      "execution_count": null,
      "outputs": [
        {
          "output_type": "execute_result",
          "data": {
            "text/plain": [
              "(70.0, 50.0)"
            ]
          },
          "metadata": {
            "tags": []
          },
          "execution_count": 135
        }
      ]
    },
    {
      "cell_type": "code",
      "metadata": {
        "colab": {
          "base_uri": "https://localhost:8080/",
          "height": 308
        },
        "id": "qUQVXxnRh8Wp",
        "outputId": "659729fe-8793-40bd-ee10-5b7992a3f4be"
      },
      "source": [
        "dados.head()"
      ],
      "execution_count": null,
      "outputs": [
        {
          "output_type": "execute_result",
          "data": {
            "text/html": [
              "<div>\n",
              "<style scoped>\n",
              "    .dataframe tbody tr th:only-of-type {\n",
              "        vertical-align: middle;\n",
              "    }\n",
              "\n",
              "    .dataframe tbody tr th {\n",
              "        vertical-align: top;\n",
              "    }\n",
              "\n",
              "    .dataframe thead th {\n",
              "        text-align: right;\n",
              "    }\n",
              "</style>\n",
              "<table border=\"1\" class=\"dataframe\">\n",
              "  <thead>\n",
              "    <tr style=\"text-align: right;\">\n",
              "      <th></th>\n",
              "      <th>date</th>\n",
              "      <th>temperaturemin</th>\n",
              "      <th>temperaturemax</th>\n",
              "      <th>precipitation</th>\n",
              "      <th>snowfall</th>\n",
              "      <th>snowdepth</th>\n",
              "      <th>avgwindspeed</th>\n",
              "      <th>fastest2minwinddir</th>\n",
              "      <th>fastest2minwindspeed</th>\n",
              "      <th>fastest5secwinddir</th>\n",
              "      <th>fastest5secwindspeed</th>\n",
              "      <th>fog</th>\n",
              "      <th>fogheavy</th>\n",
              "      <th>mist</th>\n",
              "      <th>rain</th>\n",
              "      <th>fogground</th>\n",
              "      <th>ice</th>\n",
              "      <th>glaze</th>\n",
              "      <th>drizzle</th>\n",
              "      <th>snow</th>\n",
              "      <th>freezingrain</th>\n",
              "      <th>smokehaze</th>\n",
              "      <th>thunder</th>\n",
              "      <th>highwind</th>\n",
              "      <th>hail</th>\n",
              "      <th>blowingsnow</th>\n",
              "      <th>dust</th>\n",
              "      <th>freezingfog</th>\n",
              "    </tr>\n",
              "  </thead>\n",
              "  <tbody>\n",
              "    <tr>\n",
              "      <th>0</th>\n",
              "      <td>2007-01-06</td>\n",
              "      <td>50.0</td>\n",
              "      <td>71.1</td>\n",
              "      <td>0.13</td>\n",
              "      <td>0.0</td>\n",
              "      <td>0.0</td>\n",
              "      <td>8.05</td>\n",
              "      <td>230.0</td>\n",
              "      <td>17.90</td>\n",
              "      <td>230.0</td>\n",
              "      <td>21.92</td>\n",
              "      <td>Yes</td>\n",
              "      <td>No</td>\n",
              "      <td>Yes</td>\n",
              "      <td>Yes</td>\n",
              "      <td>No</td>\n",
              "      <td>No</td>\n",
              "      <td>No</td>\n",
              "      <td>No</td>\n",
              "      <td>No</td>\n",
              "      <td>No</td>\n",
              "      <td>No</td>\n",
              "      <td>No</td>\n",
              "      <td>No</td>\n",
              "      <td>No</td>\n",
              "      <td>No</td>\n",
              "      <td>No</td>\n",
              "      <td>No</td>\n",
              "    </tr>\n",
              "    <tr>\n",
              "      <th>1</th>\n",
              "      <td>2007-01-09</td>\n",
              "      <td>30.0</td>\n",
              "      <td>55.0</td>\n",
              "      <td>0.00</td>\n",
              "      <td>0.0</td>\n",
              "      <td>0.0</td>\n",
              "      <td>7.61</td>\n",
              "      <td>280.0</td>\n",
              "      <td>23.04</td>\n",
              "      <td>270.0</td>\n",
              "      <td>29.08</td>\n",
              "      <td>No</td>\n",
              "      <td>No</td>\n",
              "      <td>No</td>\n",
              "      <td>Yes</td>\n",
              "      <td>No</td>\n",
              "      <td>No</td>\n",
              "      <td>No</td>\n",
              "      <td>No</td>\n",
              "      <td>No</td>\n",
              "      <td>No</td>\n",
              "      <td>No</td>\n",
              "      <td>No</td>\n",
              "      <td>No</td>\n",
              "      <td>No</td>\n",
              "      <td>No</td>\n",
              "      <td>No</td>\n",
              "      <td>No</td>\n",
              "    </tr>\n",
              "    <tr>\n",
              "      <th>2</th>\n",
              "      <td>2007-01-14</td>\n",
              "      <td>50.0</td>\n",
              "      <td>73.9</td>\n",
              "      <td>0.00</td>\n",
              "      <td>0.0</td>\n",
              "      <td>0.0</td>\n",
              "      <td>8.50</td>\n",
              "      <td>230.0</td>\n",
              "      <td>21.03</td>\n",
              "      <td>230.0</td>\n",
              "      <td>25.05</td>\n",
              "      <td>No</td>\n",
              "      <td>No</td>\n",
              "      <td>No</td>\n",
              "      <td>No</td>\n",
              "      <td>No</td>\n",
              "      <td>No</td>\n",
              "      <td>No</td>\n",
              "      <td>No</td>\n",
              "      <td>No</td>\n",
              "      <td>No</td>\n",
              "      <td>No</td>\n",
              "      <td>No</td>\n",
              "      <td>No</td>\n",
              "      <td>No</td>\n",
              "      <td>No</td>\n",
              "      <td>No</td>\n",
              "      <td>No</td>\n",
              "    </tr>\n",
              "    <tr>\n",
              "      <th>3</th>\n",
              "      <td>2007-01-15</td>\n",
              "      <td>57.0</td>\n",
              "      <td>73.9</td>\n",
              "      <td>0.00</td>\n",
              "      <td>0.0</td>\n",
              "      <td>0.0</td>\n",
              "      <td>13.20</td>\n",
              "      <td>230.0</td>\n",
              "      <td>23.94</td>\n",
              "      <td>230.0</td>\n",
              "      <td>29.08</td>\n",
              "      <td>No</td>\n",
              "      <td>No</td>\n",
              "      <td>No</td>\n",
              "      <td>No</td>\n",
              "      <td>No</td>\n",
              "      <td>No</td>\n",
              "      <td>No</td>\n",
              "      <td>No</td>\n",
              "      <td>No</td>\n",
              "      <td>No</td>\n",
              "      <td>No</td>\n",
              "      <td>No</td>\n",
              "      <td>No</td>\n",
              "      <td>No</td>\n",
              "      <td>No</td>\n",
              "      <td>No</td>\n",
              "      <td>No</td>\n",
              "    </tr>\n",
              "    <tr>\n",
              "      <th>4</th>\n",
              "      <td>2007-01-20</td>\n",
              "      <td>26.1</td>\n",
              "      <td>48.0</td>\n",
              "      <td>0.00</td>\n",
              "      <td>0.0</td>\n",
              "      <td>0.0</td>\n",
              "      <td>4.92</td>\n",
              "      <td>290.0</td>\n",
              "      <td>16.11</td>\n",
              "      <td>320.0</td>\n",
              "      <td>21.03</td>\n",
              "      <td>No</td>\n",
              "      <td>No</td>\n",
              "      <td>No</td>\n",
              "      <td>No</td>\n",
              "      <td>No</td>\n",
              "      <td>No</td>\n",
              "      <td>No</td>\n",
              "      <td>No</td>\n",
              "      <td>No</td>\n",
              "      <td>No</td>\n",
              "      <td>No</td>\n",
              "      <td>No</td>\n",
              "      <td>No</td>\n",
              "      <td>No</td>\n",
              "      <td>No</td>\n",
              "      <td>No</td>\n",
              "      <td>No</td>\n",
              "    </tr>\n",
              "  </tbody>\n",
              "</table>\n",
              "</div>"
            ],
            "text/plain": [
              "         date  temperaturemin  temperaturemax  ...  blowingsnow  dust  freezingfog\n",
              "0  2007-01-06            50.0            71.1  ...           No    No           No\n",
              "1  2007-01-09            30.0            55.0  ...           No    No           No\n",
              "2  2007-01-14            50.0            73.9  ...           No    No           No\n",
              "3  2007-01-15            57.0            73.9  ...           No    No           No\n",
              "4  2007-01-20            26.1            48.0  ...           No    No           No\n",
              "\n",
              "[5 rows x 28 columns]"
            ]
          },
          "metadata": {
            "tags": []
          },
          "execution_count": 136
        }
      ]
    },
    {
      "cell_type": "code",
      "metadata": {
        "id": "A-tGh6UOiDwV"
      },
      "source": [
        "Tmin = dados['temperaturemin'].values"
      ],
      "execution_count": null,
      "outputs": []
    },
    {
      "cell_type": "code",
      "metadata": {
        "colab": {
          "base_uri": "https://localhost:8080/"
        },
        "id": "U4AC3QMoiNSL",
        "outputId": "5bd16e86-77ce-4723-eaa5-783a9ecad932"
      },
      "source": [
        "Tmin"
      ],
      "execution_count": null,
      "outputs": [
        {
          "output_type": "execute_result",
          "data": {
            "text/plain": [
              "array([50. , 30. , 50. , ..., 69.1, 73. , 70. ])"
            ]
          },
          "metadata": {
            "tags": []
          },
          "execution_count": 138
        }
      ]
    },
    {
      "cell_type": "code",
      "metadata": {
        "colab": {
          "base_uri": "https://localhost:8080/"
        },
        "id": "BtO9Ck1jiSFI",
        "outputId": "12216888-ca11-46de-dee9-8fc1789207f5"
      },
      "source": [
        "np.min(Tmin),Tmin.min()"
      ],
      "execution_count": null,
      "outputs": [
        {
          "output_type": "execute_result",
          "data": {
            "text/plain": [
              "(4.1, 4.1)"
            ]
          },
          "metadata": {
            "tags": []
          },
          "execution_count": 143
        }
      ]
    },
    {
      "cell_type": "code",
      "metadata": {
        "colab": {
          "base_uri": "https://localhost:8080/"
        },
        "id": "mvbVm37zif4d",
        "outputId": "3858661f-baef-4bf8-debc-abc91648bc90"
      },
      "source": [
        "np.max(Tmin),Tmin.max()"
      ],
      "execution_count": null,
      "outputs": [
        {
          "output_type": "execute_result",
          "data": {
            "text/plain": [
              "(80.1, 80.1)"
            ]
          },
          "metadata": {
            "tags": []
          },
          "execution_count": 144
        }
      ]
    },
    {
      "cell_type": "code",
      "metadata": {
        "colab": {
          "base_uri": "https://localhost:8080/"
        },
        "id": "dtmERWf3ioth",
        "outputId": "b796d7fb-8274-4a4c-a6c1-50191c14f705"
      },
      "source": [
        "np.mean(Tmin), Tmin.mean()"
      ],
      "execution_count": null,
      "outputs": [
        {
          "output_type": "execute_result",
          "data": {
            "text/plain": [
              "(51.067627302275184, 51.067627302275184)"
            ]
          },
          "metadata": {
            "tags": []
          },
          "execution_count": 145
        }
      ]
    },
    {
      "cell_type": "code",
      "metadata": {
        "colab": {
          "base_uri": "https://localhost:8080/"
        },
        "id": "QRhQz7Blivwr",
        "outputId": "90b5d245-42df-43b9-cdd6-f3e8a2d6625f"
      },
      "source": [
        "np.sum(Tmin), Tmin.sum()"
      ],
      "execution_count": null,
      "outputs": [
        {
          "output_type": "execute_result",
          "data": {
            "text/plain": [
              "(235677.09999999998, 235677.09999999998)"
            ]
          },
          "metadata": {
            "tags": []
          },
          "execution_count": 146
        }
      ]
    },
    {
      "cell_type": "code",
      "metadata": {
        "colab": {
          "base_uri": "https://localhost:8080/"
        },
        "id": "iWIZlvFzizH7",
        "outputId": "76a220c0-fbc9-4b8a-9241-a9eebfac05a9"
      },
      "source": [
        "dados['temperaturemin'].values"
      ],
      "execution_count": null,
      "outputs": [
        {
          "output_type": "execute_result",
          "data": {
            "text/plain": [
              "array([50. , 30. , 50. , ..., 69.1, 73. , 70. ])"
            ]
          },
          "metadata": {
            "tags": []
          },
          "execution_count": 148
        }
      ]
    },
    {
      "cell_type": "code",
      "metadata": {
        "colab": {
          "base_uri": "https://localhost:8080/"
        },
        "id": "iHfy90QKjAHD",
        "outputId": "ac4b82e1-9d09-45c5-bb8f-3ffe17e488cf"
      },
      "source": [
        "len(Tmin)"
      ],
      "execution_count": null,
      "outputs": [
        {
          "output_type": "execute_result",
          "data": {
            "text/plain": [
              "4615"
            ]
          },
          "metadata": {
            "tags": []
          },
          "execution_count": 149
        }
      ]
    },
    {
      "cell_type": "code",
      "metadata": {
        "id": "OCF8cfCjjZvx"
      },
      "source": [
        "unic, vzs = np.unique(Tmin, return_counts = True)"
      ],
      "execution_count": null,
      "outputs": []
    },
    {
      "cell_type": "code",
      "metadata": {
        "id": "Xpmh4hZFjgVU"
      },
      "source": [
        "unic"
      ],
      "execution_count": null,
      "outputs": []
    },
    {
      "cell_type": "code",
      "metadata": {
        "id": "UpgfDojRjj5n"
      },
      "source": [
        "vzs"
      ],
      "execution_count": null,
      "outputs": []
    },
    {
      "cell_type": "code",
      "metadata": {
        "id": "a5OciIIBkDaB"
      },
      "source": [
        "np.sum(vzs),len(Tmin)"
      ],
      "execution_count": null,
      "outputs": []
    },
    {
      "cell_type": "code",
      "metadata": {
        "id": "J4A3x4IMkJ1z"
      },
      "source": [
        "np.max(vzs),vzs.argmax()"
      ],
      "execution_count": null,
      "outputs": []
    },
    {
      "cell_type": "code",
      "metadata": {
        "id": "NUBja43xkUiG"
      },
      "source": [
        "vzs[82],unic[82]"
      ],
      "execution_count": null,
      "outputs": []
    },
    {
      "cell_type": "code",
      "metadata": {
        "id": "yb5AQGrzkikY"
      },
      "source": [
        "from scipy import stats"
      ],
      "execution_count": null,
      "outputs": []
    },
    {
      "cell_type": "code",
      "metadata": {
        "colab": {
          "base_uri": "https://localhost:8080/"
        },
        "id": "B4QYwjCMkugU",
        "outputId": "3f741902-fdb2-49dd-e3b9-9fb10a8b30e4"
      },
      "source": [
        "stats.mode(Tmin)"
      ],
      "execution_count": null,
      "outputs": [
        {
          "output_type": "execute_result",
          "data": {
            "text/plain": [
              "ModeResult(mode=array([70.]), count=array([152]))"
            ]
          },
          "metadata": {
            "tags": []
          },
          "execution_count": 162
        }
      ]
    },
    {
      "cell_type": "code",
      "metadata": {
        "id": "zUxUP62bk2oR"
      },
      "source": [
        "import matplotlib.pyplot as plt "
      ],
      "execution_count": null,
      "outputs": []
    },
    {
      "cell_type": "code",
      "metadata": {
        "colab": {
          "base_uri": "https://localhost:8080/",
          "height": 285
        },
        "id": "XRqr2PLqlC9i",
        "outputId": "9b9fc581-e176-40e0-ab95-f56abe702dd7"
      },
      "source": [
        "plt.plot(unic,vzs,color = 'brown')\n",
        "plt.xlabel('Temperatura Mínima ($^0$C)')\n",
        "plt.ylabel('Número de Repetição')\n",
        "plt.show()"
      ],
      "execution_count": null,
      "outputs": [
        {
          "output_type": "display_data",
          "data": {
            "image/png": "[encoded data removed]",
            "text/plain": [
              "<Figure size 432x288 with 1 Axes>"
            ]
          },
          "metadata": {
            "tags": [],
            "needs_background": "light"
          }
        }
      ]
    },
    {
      "cell_type": "code",
      "metadata": {
        "colab": {
          "base_uri": "https://localhost:8080/",
          "height": 285
        },
        "id": "OhjnSTjrlMNg",
        "outputId": "e9d40a0d-0dc2-4367-85a6-9c7ae318cc69"
      },
      "source": [
        "plt.scatter(unic,vzs,marker = 's',color = 'brown',alpha = 0.5)\n",
        "plt.xlabel('Temperatura Mínima ($^0$C)')\n",
        "plt.ylabel('Número de Repetição')\n",
        "plt.show()"
      ],
      "execution_count": null,
      "outputs": [
        {
          "output_type": "display_data",
          "data": {
            "image/png": "[encoded data removed]",
            "text/plain": [
              "<Figure size 432x288 with 1 Axes>"
            ]
          },
          "metadata": {
            "tags": [],
            "needs_background": "light"
          }
        }
      ]
    },
    {
      "cell_type": "code",
      "metadata": {
        "colab": {
          "base_uri": "https://localhost:8080/",
          "height": 295
        },
        "id": "e1u8af3jmQYm",
        "outputId": "eed45824-34a2-44a8-8d04-bb0dee7f5b69"
      },
      "source": [
        "ft = 14\n",
        "plt.rcParams.update({'font.size':ft})\n",
        "\n",
        "plt.bar(unic,vzs,color = 'brown',edgecolor = 'blue')\n",
        "plt.xlabel('Temperatura Mínima ($^0$C)')\n",
        "plt.ylabel('Número de Repetição')\n",
        "plt.savefig('figura.png',dpi = 600,bbox_inches = 'tight')\n",
        "plt.show()"
      ],
      "execution_count": null,
      "outputs": [
        {
          "output_type": "display_data",
          "data": {
            "image/png": "[encoded data removed]",
            "text/plain": [
              "<Figure size 432x288 with 1 Axes>"
            ]
          },
          "metadata": {
            "tags": [],
            "needs_background": "light"
          }
        }
      ]
    },
    {
      "cell_type": "code",
      "metadata": {
        "colab": {
          "base_uri": "https://localhost:8080/"
        },
        "id": "wUmZFMROmoB0",
        "outputId": "b0f36c1d-fe36-4d79-8093-0d8dbdcb904e"
      },
      "source": [
        "Tmax = dados['temperaturemax'].values\n",
        "Tmax"
      ],
      "execution_count": null,
      "outputs": [
        {
          "output_type": "execute_result",
          "data": {
            "text/plain": [
              "array([71.1, 55. , 73.9, ..., 95. , 96.1, 91.9])"
            ]
          },
          "metadata": {
            "tags": []
          },
          "execution_count": 177
        }
      ]
    },
    {
      "cell_type": "code",
      "metadata": {
        "colab": {
          "base_uri": "https://localhost:8080/"
        },
        "id": "9xjbjn1npoRf",
        "outputId": "fbbdd84c-24e5-443a-dc98-1620b4592374"
      },
      "source": [
        "np.sum(Tmax)"
      ],
      "execution_count": null,
      "outputs": [
        {
          "output_type": "execute_result",
          "data": {
            "text/plain": [
              "334147.5"
            ]
          },
          "metadata": {
            "tags": []
          },
          "execution_count": 178
        }
      ]
    },
    {
      "cell_type": "code",
      "metadata": {
        "colab": {
          "base_uri": "https://localhost:8080/"
        },
        "id": "FiubOSnopsFF",
        "outputId": "cf07d242-32c5-41d9-9992-b44bf9b18837"
      },
      "source": [
        "np.min(Tmax),np.min(Tmin)"
      ],
      "execution_count": null,
      "outputs": [
        {
          "output_type": "execute_result",
          "data": {
            "text/plain": [
              "(23.2, 4.1)"
            ]
          },
          "metadata": {
            "tags": []
          },
          "execution_count": 180
        }
      ]
    },
    {
      "cell_type": "code",
      "metadata": {
        "colab": {
          "base_uri": "https://localhost:8080/"
        },
        "id": "A60NrItipucr",
        "outputId": "8eb6ad1f-a594-49bb-ab90-e4a07732d7a3"
      },
      "source": [
        "np.max(Tmax)"
      ],
      "execution_count": null,
      "outputs": [
        {
          "output_type": "execute_result",
          "data": {
            "text/plain": [
              "105.1"
            ]
          },
          "metadata": {
            "tags": []
          },
          "execution_count": 181
        }
      ]
    },
    {
      "cell_type": "code",
      "metadata": {
        "colab": {
          "base_uri": "https://localhost:8080/"
        },
        "id": "fy6abROHp0jR",
        "outputId": "6dccaf8d-2e9b-4505-f44f-dd0f333129f2"
      },
      "source": [
        "np.mean(Tmax)"
      ],
      "execution_count": null,
      "outputs": [
        {
          "output_type": "execute_result",
          "data": {
            "text/plain": [
              "72.40465872156012"
            ]
          },
          "metadata": {
            "tags": []
          },
          "execution_count": 182
        }
      ]
    },
    {
      "cell_type": "code",
      "metadata": {
        "id": "02PAVeazp66t"
      },
      "source": [
        "unic,vzs = np.unique(Tmax,return_counts = True)"
      ],
      "execution_count": null,
      "outputs": []
    },
    {
      "cell_type": "code",
      "metadata": {
        "id": "L7qGndNGqHA-"
      },
      "source": [
        "unic"
      ],
      "execution_count": null,
      "outputs": []
    },
    {
      "cell_type": "code",
      "metadata": {
        "id": "iCghQFFTqIt1"
      },
      "source": [
        "vzs"
      ],
      "execution_count": null,
      "outputs": []
    },
    {
      "cell_type": "code",
      "metadata": {
        "colab": {
          "base_uri": "https://localhost:8080/"
        },
        "id": "YRx9zVz7qKG4",
        "outputId": "56952e4a-ce25-456a-f804-b92100132e46"
      },
      "source": [
        "freq = vzs/np.sum(vzs)*100\n",
        "freq "
      ],
      "execution_count": null,
      "outputs": [
        {
          "output_type": "execute_result",
          "data": {
            "text/plain": [
              "array([0.02166847, 0.02166847, 0.02166847, 0.13001083, 0.06500542,\n",
              "       0.02166847, 0.02166847, 0.13001083, 0.06500542, 0.28169014,\n",
              "       0.10834236, 0.19501625, 0.43336945, 0.26002167, 0.36836403,\n",
              "       0.36836403, 0.32502709, 0.41170098, 0.3900325 , 0.75839653,\n",
              "       0.78006501, 0.71505959, 0.97508126, 0.88840737, 0.95341278,\n",
              "       1.04008667, 1.08342362, 1.4084507 , 1.43011918, 1.17009751,\n",
              "       1.2567714 , 1.4084507 , 1.2567714 , 1.14842904, 1.43011918,\n",
              "       1.58179848, 1.2567714 , 1.60346696, 1.58179848, 1.58179848,\n",
              "       1.27843987, 1.79848321, 1.71180932, 1.82015168, 1.77681473,\n",
              "       1.95016251, 1.56013001, 1.71180932, 1.95016251, 1.53846154,\n",
              "       1.84182015, 1.97183099, 1.77681473, 1.97183099, 1.99349946,\n",
              "       2.14517876, 1.99349946, 1.77681473, 1.77681473, 2.40520043,\n",
              "       2.34019502, 2.01516793, 2.49187432, 2.12351029, 2.75189599,\n",
              "       3.01191766, 2.83856988, 2.38353196, 2.75189599, 2.31852654,\n",
              "       1.86348862, 1.6468039 , 1.69014085, 1.32177681, 0.86673889,\n",
              "       0.54171181, 0.52004334, 0.19501625, 0.2383532 , 0.15167931,\n",
              "       0.08667389, 0.06500542, 0.08667389])"
            ]
          },
          "metadata": {
            "tags": []
          },
          "execution_count": 191
        }
      ]
    },
    {
      "cell_type": "code",
      "metadata": {
        "colab": {
          "base_uri": "https://localhost:8080/"
        },
        "id": "m0kjvGCnqWe6",
        "outputId": "11f4cee4-44aa-451c-ae3a-417eb4345a2c"
      },
      "source": [
        "np.sum(freq)"
      ],
      "execution_count": null,
      "outputs": [
        {
          "output_type": "execute_result",
          "data": {
            "text/plain": [
              "100.00000000000001"
            ]
          },
          "metadata": {
            "tags": []
          },
          "execution_count": 187
        }
      ]
    },
    {
      "cell_type": "code",
      "metadata": {
        "colab": {
          "base_uri": "https://localhost:8080/",
          "height": 301
        },
        "id": "REuheollqZ2I",
        "outputId": "6aabea86-fc16-4439-b6d5-11b8230ed45d"
      },
      "source": [
        "plt.bar(unic,freq,color = 'brown',edgecolor = 'blue')\n",
        "plt.xlabel('Temperatura Máxima ($^0$C)')\n",
        "plt.ylabel('Frequência de Aparecimento (%)')\n",
        "plt.savefig('figuraTmax.png',dpi = 600,bbox_inches = 'tight')\n",
        "plt.show()"
      ],
      "execution_count": null,
      "outputs": [
        {
          "output_type": "display_data",
          "data": {
            "image/png": "[encoded data removed]",
            "text/plain": [
              "<Figure size 432x288 with 1 Axes>"
            ]
          },
          "metadata": {
            "tags": [],
            "needs_background": "light"
          }
        }
      ]
    },
    {
      "cell_type": "code",
      "metadata": {
        "colab": {
          "base_uri": "https://localhost:8080/"
        },
        "id": "CHGWvNv7qnc6",
        "outputId": "7f13f3c8-f036-4cf0-fbd0-e34e1679b6f4"
      },
      "source": [
        "np.argmax(vzs)"
      ],
      "execution_count": null,
      "outputs": [
        {
          "output_type": "execute_result",
          "data": {
            "text/plain": [
              "65"
            ]
          },
          "metadata": {
            "tags": []
          },
          "execution_count": 189
        }
      ]
    },
    {
      "cell_type": "code",
      "metadata": {
        "colab": {
          "base_uri": "https://localhost:8080/"
        },
        "id": "mub_6tOBqwG3",
        "outputId": "65d0652c-8526-427b-a64e-558046592814"
      },
      "source": [
        "unic[65]"
      ],
      "execution_count": null,
      "outputs": [
        {
          "output_type": "execute_result",
          "data": {
            "text/plain": [
              "88.0"
            ]
          },
          "metadata": {
            "tags": []
          },
          "execution_count": 190
        }
      ]
    },
    {
      "cell_type": "code",
      "metadata": {
        "id": "mOD_KHxcqyIc"
      },
      "source": [
        ""
      ],
      "execution_count": null,
      "outputs": []
    }
  ]
}