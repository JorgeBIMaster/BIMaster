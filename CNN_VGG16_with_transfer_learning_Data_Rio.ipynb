{
  "nbformat": 4,
  "nbformat_minor": 0,
  "metadata": {
    "colab": {
      "name": "CNN VGG16 with transfer learning - Data Rio.ipynb",
      "provenance": [],
      "collapsed_sections": [],
      "include_colab_link": true
    },
    "kernelspec": {
      "name": "python3",
      "display_name": "Python 3"
    },
    "language_info": {
      "name": "python"
    }
  },
  "cells": [
    {
      "cell_type": "markdown",
      "metadata": {
        "id": "view-in-github",
        "colab_type": "text"
      },
      "source": [
        "<a href=\"https://colab.research.google.com/github/JorgeBIMaster/BIMaster/blob/main/CNN_VGG16_with_transfer_learning_Data_Rio.ipynb\" target=\"_parent\"><img src=\"https://colab.research.google.com/assets/colab-badge.svg\" alt=\"Open In Colab\"/></a>"
      ]
    },
    {
      "cell_type": "markdown",
      "metadata": {
        "id": "YZaaYfhH42nv"
      },
      "source": [
        "Importing libraries"
      ]
    },
    {
      "cell_type": "code",
      "metadata": {
        "id": "qYvacv_WQunp"
      },
      "source": [
        "#Import libraries\n",
        "import torch\n",
        "import torch.nn as nn\n",
        "import torch.optim as optim\n",
        "import torchvision.transforms as transform\n",
        "import torchvision \n",
        "from torch.utils.data import DataLoader, ConcatDataset\n",
        "from torch.utils.data import SubsetRandomSampler #split the dataset\n",
        "\n",
        "# Libraries to create custom dataloader\n",
        "import os\n",
        "import pandas as pd\n",
        "import torch\n",
        "from torch.utils.data import Dataset\n",
        "from skimage import io\n",
        "from PIL import Image\n",
        "import numpy as np\n",
        "from torch.utils import data\n",
        "\n",
        "from scipy import misc\n",
        "import torchvision.transforms.functional as F\n",
        "\n",
        "#Library to plot graphs\n",
        "import matplotlib.pyplot as plt\n",
        "\n",
        "from sklearn.model_selection import KFold\n",
        "\n",
        "from torchvision.utils import save_image\n",
        "\n",
        "from collections import OrderedDict\n",
        "\n",
        "#Library for target normalization\n",
        "from sklearn.preprocessing import MinMaxScaler"
      ],
      "execution_count": null,
      "outputs": []
    },
    {
      "cell_type": "code",
      "metadata": {
        "colab": {
          "base_uri": "https://localhost:8080/"
        },
        "id": "HebUivcEUCtk",
        "outputId": "66263ae0-9c4e-449c-fb1a-6777cc91dff7"
      },
      "source": [
        "#allow access to google drive\n",
        "from google.colab import drive\n",
        "drive.mount('/content/gdrive')"
      ],
      "execution_count": null,
      "outputs": [
        {
          "output_type": "stream",
          "text": [
            "Mounted at /content/gdrive\n"
          ],
          "name": "stdout"
        }
      ]
    },
    {
      "cell_type": "code",
      "metadata": {
        "id": "ENN5RysgUYkH",
        "colab": {
          "base_uri": "https://localhost:8080/"
        },
        "outputId": "2fb82242-e710-4905-c298-add07b78a3ea"
      },
      "source": [
        "# Set device\n",
        "device = torch.device ('cuda' if torch.cuda.is_available() else 'cpu')\n",
        "device"
      ],
      "execution_count": null,
      "outputs": [
        {
          "output_type": "execute_result",
          "data": {
            "text/plain": [
              "device(type='cuda')"
            ]
          },
          "metadata": {
            "tags": []
          },
          "execution_count": 4
        }
      ]
    },
    {
      "cell_type": "code",
      "metadata": {
        "id": "HQ89VCf9Wek0"
      },
      "source": [
        "in_channel = 3\n",
        "num_classes = 1\n",
        "learning_rate = 1e-3\n",
        "batch_size = 1\n",
        "num_epochs = 30"
      ],
      "execution_count": null,
      "outputs": []
    },
    {
      "cell_type": "markdown",
      "metadata": {
        "id": "KDow9FC55h67"
      },
      "source": [
        "Customize dataloader"
      ]
    },
    {
      "cell_type": "code",
      "metadata": {
        "id": "OUWUl83FWtsA"
      },
      "source": [
        "'''\n",
        "Create a customize dataloader\n",
        "'''\n",
        "class CustomDataSet(Dataset):\n",
        "    def __init__(self, csv_file , root_dir, transform=None):\n",
        "        self.annotations = pd.read_csv(csv_file)\n",
        "        self.root_dir = root_dir\n",
        "        self.transform = transform\n",
        "\n",
        "    def __len__(self):\n",
        "        return len(self.annotations)\n",
        "\n",
        "    def __getitem__(self,index):\n",
        "      img_path = os.path.join(self.root_dir,self.annotations.iloc[index,0])\n",
        "      image = Image.open(img_path).convert(\"RGB\")\n",
        "      image = self.transform.ToTensor()(image)\n",
        "      image = self.transform.Resize((150,150))(image)\n",
        "      image = image.type(torch.float32)# transform to float32 tensor\n",
        "      image = self.transform.Normalize(0.1683,0.2019)(image)\n",
        "      y_label = torch.tensor(float(self.annotations.iloc[index,1]))\n",
        "      y_label = y_label.resize_((1))\n",
        "\n",
        "      return (image,y_label)"
      ],
      "execution_count": null,
      "outputs": []
    },
    {
      "cell_type": "markdown",
      "metadata": {
        "id": "NsCcILY95lQs"
      },
      "source": [
        "Loading dataset"
      ]
    },
    {
      "cell_type": "code",
      "metadata": {
        "colab": {
          "base_uri": "https://localhost:8080/"
        },
        "id": "piuPP00hX1V3",
        "outputId": "1f807da5-403e-4096-e9a0-f0760cf6e351"
      },
      "source": [
        "# Load Data\n",
        "path_csv = \"/content/gdrive/My Drive/ProjectCNN/ProjectPUC/Pre-trained CNN/RF Prediction - Transfer Learning/img_label.csv\"\n",
        "path_img = \"/content/gdrive/My Drive/ProjectCNN/ProjectPUC/Pre-trained CNN/DSM1\"\n",
        "\n",
        "dataset_train = CustomDataSet(csv_file = path_csv, root_dir = path_img, transform = transform)\n",
        "dataset_val_test = CustomDataSet(csv_file = path_csv, root_dir = path_img, transform = transform)\n",
        "\n",
        "#for repeatable results\n",
        "random_seed = 1\n",
        "np.random.seed(random_seed) #for repeatable\n",
        "torch.manual_seed(random_seed)\n",
        "torch.cuda.manual_seed(random_seed)\n",
        "torch.cuda.manual_seed_all(random_seed)\n",
        "torch.backends.cudnn.enabled = False\n",
        "torch.backends.cudnn.benchmark = False\n",
        "torch.backends.cudnn.deterministic = True\n",
        "\n",
        "# Splitting the data\n",
        "#random_seed = 1\n",
        "#torch.manual_seed(random_seed)\n",
        "test_train_split = 0.2\n",
        "val_train_split = 0.2\n",
        "\n",
        "dataset_size = len(dataset_train)\n",
        "indices = list(range(dataset_size))\n",
        "test_split = int(np.floor(test_train_split * dataset_size))\n",
        "\n",
        "np.random.shuffle(indices) #aleatory values\n",
        "train_idx_temp, test_idx = indices[test_split:], indices[:test_split]\n",
        "train_size = len(train_idx_temp)\n",
        "\n",
        "validation_split = int(np.floor(val_train_split * train_size))\n",
        "\n",
        "train_idx, valid_idx = train_idx_temp[validation_split:], train_idx_temp[:validation_split]\n",
        "\n",
        "train_sampler = SubsetRandomSampler(train_idx)\n",
        "valid_sampler = SubsetRandomSampler(valid_idx)\n",
        "test_sampler = SubsetRandomSampler(test_idx)\n",
        "\n",
        "train_loader = DataLoader(dataset_train, batch_size = batch_size, sampler=train_sampler, shuffle=False, worker_init_fn=np.random.seed(0), num_workers=0)\n",
        "valid_loader = DataLoader(dataset_val_test, batch_size = batch_size, sampler=valid_sampler, shuffle=False, worker_init_fn=np.random.seed(0), num_workers=0)\n",
        "test_loader = DataLoader(dataset_val_test, batch_size = batch_size, sampler=test_sampler, shuffle=False, worker_init_fn=np.random.seed(0), num_workers=0)\n",
        "print(train_idx)\n",
        "print(valid_idx)\n",
        "print(test_idx)\n",
        "\n",
        "print(len(train_sampler))\n",
        "print(len(valid_sampler))\n",
        "print(len(test_sampler))"
      ],
      "execution_count": null,
      "outputs": [
        {
          "output_type": "stream",
          "text": [
            "[91, 99, 53, 51, 74, 23, 34, 88, 56, 69, 15, 85, 41, 45, 93, 26, 100, 43, 59, 24, 4, 62, 90, 49, 21, 89, 3, 97, 30, 47, 77, 8, 60, 0, 92, 57, 22, 61, 63, 7, 98, 13, 68, 87, 14, 29, 28, 11, 84, 18, 20, 50, 25, 6, 71, 76, 1, 16, 64, 79, 5, 75, 9, 72, 12, 37]\n",
            "[33, 32, 40, 39, 38, 46, 42, 10, 2, 54, 67, 73, 19, 27, 48, 58]\n",
            "[95, 78, 17, 101, 36, 86, 55, 83, 82, 52, 96, 44, 31, 94, 65, 35, 66, 70, 81, 80]\n",
            "66\n",
            "16\n",
            "20\n"
          ],
          "name": "stdout"
        }
      ]
    },
    {
      "cell_type": "markdown",
      "metadata": {
        "id": "tVOUjfm2jbTh"
      },
      "source": [
        "Normalize image with mean and std"
      ]
    },
    {
      "cell_type": "code",
      "metadata": {
        "colab": {
          "base_uri": "https://localhost:8080/"
        },
        "id": "wLTrNQFqjZl0",
        "outputId": "4a244742-8cc7-43dc-be18-ab5856790407"
      },
      "source": [
        "num_of_pixels = (len(train_loader) + len(valid_loader)) * 150 * 150\n",
        "total_sum = 0\n",
        "mean = 0\n",
        "batch =[]\n",
        "for batch in valid_loader: \n",
        "  total_sum += batch[0].sum()\n",
        "\n",
        "for batch in train_loader: \n",
        "  total_sum += batch[0].sum()\n",
        "\n",
        "mean = total_sum/num_of_pixels\n",
        "\n",
        "sum_of_squared_error = 0\n",
        "\n",
        "for batch in valid_loader: \n",
        "    sum_of_squared_error += ((batch[0] - mean).pow(2)).sum()\n",
        "\n",
        "for batch in train_loader: \n",
        "    sum_of_squared_error += ((batch[0] - mean).pow(2)).sum()\n",
        "\n",
        "std = torch.sqrt(sum_of_squared_error / num_of_pixels)\n",
        "\n",
        "print(mean)\n",
        "print(std)"
      ],
      "execution_count": null,
      "outputs": [
        {
          "output_type": "stream",
          "text": [
            "tensor(0.1683)\n",
            "tensor(0.2019)\n"
          ],
          "name": "stdout"
        }
      ]
    },
    {
      "cell_type": "markdown",
      "metadata": {
        "id": "686h5dbV5n4y"
      },
      "source": [
        "Loading model with transfer learning"
      ]
    },
    {
      "cell_type": "code",
      "metadata": {
        "id": "8rHPHHvjfZJe"
      },
      "source": [
        "def build_model():\n",
        "  \"\"\"\n",
        "  Load a pretrained model with only the final layer\n",
        "  replaced by a user-defined classifier\n",
        "  :param arch - a string specifying the type of model architecture\n",
        "  :param num_classes - an integer specifying the number of class labels\n",
        "  :param hidden_units - an integer specifying the size\n",
        "  return - a pretrained model with a user-defined classifier\n",
        "  \"\"\"\n",
        "  in_features = 0\n",
        "  out_features = 512\n",
        "  in_featuresLayer = 512\n",
        "  \n",
        "  model = torchvision.models.vgg16(pretrained=True)\n",
        "    \n",
        "  # Freeze parameters as only the final layer is being trained\n",
        "  for param in model.parameters():\n",
        "      param.require_grad = False\n",
        "  # extract the last layer in the model\n",
        "  last_layer = list(model.children())[-1]\n",
        "  if isinstance(last_layer, nn.Sequential):\n",
        "      count = 0\n",
        "      for layer in last_layer:\n",
        "          if isinstance(layer, nn.Linear):\n",
        "              # fetch the first of the many Linear layers\n",
        "              count += 1\n",
        "              in_features = layer.in_features\n",
        "          if count == 1:\n",
        "              break\n",
        "  elif isinstance(last_layer, nn.Linear):\n",
        "      in_features = last_layer.in_features\n",
        "  # define the new classifier\n",
        "  classifier = nn.Sequential(OrderedDict([\n",
        "                          ('fc1', nn.Linear(in_features, in_featuresLayer, bias=True)),\n",
        "                          ('relu1', nn.ReLU(inplace=True)),\n",
        "                          ('dropout1', nn.Dropout(p=0.3,inplace=False)),\n",
        "                          #('fc2', nn.Linear(in_featuresLayer, out_features, bias=True)),\n",
        "                          #('relu2', nn.ReLU(inplace=True)),\n",
        "                          #('dropout2', nn.Dropout(p=0.3,inplace=False)),\n",
        "                          ('fc2', nn.Linear(in_featuresLayer, num_classes, bias=True))\n",
        "  ]))\n",
        "  # replace the existing classifier in thelast layer with the new one\n",
        "  if model.__dict__['_modules'].get('fc', None):\n",
        "      model.fc = classifier\n",
        "  else:\n",
        "      model.classifier = classifier\n",
        "\n",
        "  return model"
      ],
      "execution_count": null,
      "outputs": []
    },
    {
      "cell_type": "code",
      "metadata": {
        "colab": {
          "base_uri": "https://localhost:8080/"
        },
        "id": "Z8B6Eqg6lGU1",
        "outputId": "5ad5020c-2293-4e03-b814-02f4d60f8b69"
      },
      "source": [
        "num_classes = 1 #for regression\n",
        "in_features = 1\n",
        "out_features = 512\n",
        "in_featuresLayer = 512\n",
        "\n",
        "hidden_units = 64\n",
        "\n",
        "model = build_model()\n",
        "model.to(device)\n",
        "print(model)"
      ],
      "execution_count": null,
      "outputs": [
        {
          "output_type": "stream",
          "text": [
            "VGG(\n",
            "  (features): Sequential(\n",
            "    (0): Conv2d(3, 64, kernel_size=(3, 3), stride=(1, 1), padding=(1, 1))\n",
            "    (1): ReLU(inplace=True)\n",
            "    (2): Conv2d(64, 64, kernel_size=(3, 3), stride=(1, 1), padding=(1, 1))\n",
            "    (3): ReLU(inplace=True)\n",
            "    (4): MaxPool2d(kernel_size=2, stride=2, padding=0, dilation=1, ceil_mode=False)\n",
            "    (5): Conv2d(64, 128, kernel_size=(3, 3), stride=(1, 1), padding=(1, 1))\n",
            "    (6): ReLU(inplace=True)\n",
            "    (7): Conv2d(128, 128, kernel_size=(3, 3), stride=(1, 1), padding=(1, 1))\n",
            "    (8): ReLU(inplace=True)\n",
            "    (9): MaxPool2d(kernel_size=2, stride=2, padding=0, dilation=1, ceil_mode=False)\n",
            "    (10): Conv2d(128, 256, kernel_size=(3, 3), stride=(1, 1), padding=(1, 1))\n",
            "    (11): ReLU(inplace=True)\n",
            "    (12): Conv2d(256, 256, kernel_size=(3, 3), stride=(1, 1), padding=(1, 1))\n",
            "    (13): ReLU(inplace=True)\n",
            "    (14): Conv2d(256, 256, kernel_size=(3, 3), stride=(1, 1), padding=(1, 1))\n",
            "    (15): ReLU(inplace=True)\n",
            "    (16): MaxPool2d(kernel_size=2, stride=2, padding=0, dilation=1, ceil_mode=False)\n",
            "    (17): Conv2d(256, 512, kernel_size=(3, 3), stride=(1, 1), padding=(1, 1))\n",
            "    (18): ReLU(inplace=True)\n",
            "    (19): Conv2d(512, 512, kernel_size=(3, 3), stride=(1, 1), padding=(1, 1))\n",
            "    (20): ReLU(inplace=True)\n",
            "    (21): Conv2d(512, 512, kernel_size=(3, 3), stride=(1, 1), padding=(1, 1))\n",
            "    (22): ReLU(inplace=True)\n",
            "    (23): MaxPool2d(kernel_size=2, stride=2, padding=0, dilation=1, ceil_mode=False)\n",
            "    (24): Conv2d(512, 512, kernel_size=(3, 3), stride=(1, 1), padding=(1, 1))\n",
            "    (25): ReLU(inplace=True)\n",
            "    (26): Conv2d(512, 512, kernel_size=(3, 3), stride=(1, 1), padding=(1, 1))\n",
            "    (27): ReLU(inplace=True)\n",
            "    (28): Conv2d(512, 512, kernel_size=(3, 3), stride=(1, 1), padding=(1, 1))\n",
            "    (29): ReLU(inplace=True)\n",
            "    (30): MaxPool2d(kernel_size=2, stride=2, padding=0, dilation=1, ceil_mode=False)\n",
            "  )\n",
            "  (avgpool): AdaptiveAvgPool2d(output_size=(7, 7))\n",
            "  (classifier): Sequential(\n",
            "    (fc1): Linear(in_features=25088, out_features=512, bias=True)\n",
            "    (relu1): ReLU(inplace=True)\n",
            "    (dropout1): Dropout(p=0.3, inplace=False)\n",
            "    (fc2): Linear(in_features=512, out_features=1, bias=True)\n",
            "  )\n",
            ")\n"
          ],
          "name": "stdout"
        }
      ]
    },
    {
      "cell_type": "code",
      "metadata": {
        "id": "Q-6AXEfpLzbW"
      },
      "source": [
        "# Loss \n",
        "criterion = nn.MSELoss()\n",
        "optimizer = optim.Adam(model.parameters(), lr=learning_rate)"
      ],
      "execution_count": null,
      "outputs": []
    },
    {
      "cell_type": "code",
      "metadata": {
        "colab": {
          "base_uri": "https://localhost:8080/"
        },
        "id": "Yq5Ov8bl5w0U",
        "outputId": "d4c46bb0-3b05-4a9d-f489-fe62bb3a087d"
      },
      "source": [
        "# Without cross-validation\n",
        "\n",
        "train_losses_epoch = []\n",
        "val_losses_epoch = []\n",
        "test_losses_epoch = []\n",
        "\n",
        "for epoch in range(num_epochs):\n",
        "\n",
        "    losses_train = 0.0\n",
        "    losses_train_list = []\n",
        "    \n",
        "    model.train()\n",
        "\n",
        "    # Train model\n",
        "    for batch_idx, (data, targets) in enumerate(train_loader):\n",
        "        #plt.imshow(np.transpose(data[0].numpy(), (1, 2, 0)))\n",
        "\n",
        "        # Get data to cuda if possible\n",
        "        data = data.to(device=device)\n",
        "        targets = targets.to(device=device,dtype=torch.float)\n",
        "        #targets = targets.to(device=device)\n",
        "        #print(targets), print(targets.shape)\n",
        "        \n",
        "        # forward\n",
        "        scores = model(data)\n",
        "        #print(scores),print(targets)\n",
        "\n",
        "        loss = criterion(scores,targets)\n",
        "\n",
        "        losses_train += loss.item()\n",
        "        losses_train_list.append(loss.item())\n",
        "\n",
        "        # backward\n",
        "        optimizer.zero_grad()\n",
        "        loss.backward()\n",
        "\n",
        "        # gradient descent or adam stop\n",
        "        optimizer.step()\n",
        "\n",
        "    # Validation model\n",
        "    else: \n",
        "      losses_val = 0.0\n",
        "      losses_val_list = []\n",
        "      correct = 0.0\n",
        "      total = 0.0\n",
        "      \n",
        "      with torch.no_grad():  \n",
        "        model.eval()\n",
        "\n",
        "        for batch_idx, (data, targets) in enumerate(valid_loader):\n",
        "\n",
        "            data = data.to(device=device)\n",
        "            targets = targets.to(device=device,dtype=torch.float)\n",
        "            scores = model(data)\n",
        "            #print(targets),print(scores)\n",
        "            loss = criterion(scores,targets)\n",
        "            losses_val+=loss.item()\n",
        "            losses_val_list.append(loss.item())\n",
        "            #total += targets.size(0)\n",
        "            #correct += (scores == targets).sum().item()\n",
        "\n",
        "    # Test model\n",
        "    model.eval()\n",
        "\n",
        "    losses_test = 0.0\n",
        "    losses_test_list = []\n",
        "    with torch.no_grad():\n",
        "      \n",
        "      for batch_idx, (data, targets) in enumerate(test_loader):\n",
        "\n",
        "          data = data.to(device=device)\n",
        "          targets = targets.to(device=device,dtype=torch.float)\n",
        "          scores = model(data)\n",
        "          loss = criterion(scores,targets)\n",
        "          losses_test+=loss.item()\n",
        "          losses_test_list.append(loss.item())\n",
        "\n",
        "    # Statistics report\n",
        "    train_losses_epoch.append(losses_train/len(losses_train_list))\n",
        "    val_losses_epoch.append(losses_val/len(losses_val_list))\n",
        "    test_losses_epoch.append(losses_test/len(losses_test_list))\n",
        "\n",
        "    print(\"[Epoch: {}] \".format(epoch),\n",
        "          \"[Training Loss: {:.3f}] \".format(losses_train/len(losses_train_list)),\n",
        "          \"[Validing Loss: {:.3f}] \".format(losses_val/len(losses_val_list)),\n",
        "          \"[Testing Loss: {:.3f}] \".format(losses_test/len(losses_test_list)))"
      ],
      "execution_count": null,
      "outputs": [
        {
          "output_type": "stream",
          "text": [
            "[Epoch: 0]  [Training Loss: 1.244]  [Validing Loss: 0.150]  [Testing Loss: 0.119] \n",
            "[Epoch: 1]  [Training Loss: 0.066]  [Validing Loss: 0.086]  [Testing Loss: 0.060] \n",
            "[Epoch: 2]  [Training Loss: 0.178]  [Validing Loss: 0.400]  [Testing Loss: 0.345] \n",
            "[Epoch: 3]  [Training Loss: 0.114]  [Validing Loss: 0.084]  [Testing Loss: 0.079] \n",
            "[Epoch: 4]  [Training Loss: 0.079]  [Validing Loss: 0.037]  [Testing Loss: 0.048] \n",
            "[Epoch: 5]  [Training Loss: 0.064]  [Validing Loss: 0.023]  [Testing Loss: 0.044] \n",
            "[Epoch: 6]  [Training Loss: 0.072]  [Validing Loss: 0.019]  [Testing Loss: 0.051] \n",
            "[Epoch: 7]  [Training Loss: 0.060]  [Validing Loss: 0.027]  [Testing Loss: 0.044] \n",
            "[Epoch: 8]  [Training Loss: 0.062]  [Validing Loss: 0.023]  [Testing Loss: 0.044] \n",
            "[Epoch: 9]  [Training Loss: 0.058]  [Validing Loss: 0.028]  [Testing Loss: 0.044] \n",
            "[Epoch: 10]  [Training Loss: 0.053]  [Validing Loss: 0.019]  [Testing Loss: 0.051] \n",
            "[Epoch: 11]  [Training Loss: 0.149]  [Validing Loss: 0.052]  [Testing Loss: 0.100] \n",
            "[Epoch: 12]  [Training Loss: 0.173]  [Validing Loss: 0.047]  [Testing Loss: 0.052] \n",
            "[Epoch: 13]  [Training Loss: 0.265]  [Validing Loss: 0.215]  [Testing Loss: 0.184] \n",
            "[Epoch: 14]  [Training Loss: 0.085]  [Validing Loss: 0.092]  [Testing Loss: 0.083] \n",
            "[Epoch: 15]  [Training Loss: 0.058]  [Validing Loss: 0.042]  [Testing Loss: 0.050] \n",
            "[Epoch: 16]  [Training Loss: 0.093]  [Validing Loss: 0.144]  [Testing Loss: 0.125] \n",
            "[Epoch: 17]  [Training Loss: 0.118]  [Validing Loss: 0.048]  [Testing Loss: 0.054] \n",
            "[Epoch: 18]  [Training Loss: 0.045]  [Validing Loss: 0.023]  [Testing Loss: 0.044] \n",
            "[Epoch: 19]  [Training Loss: 0.046]  [Validing Loss: 0.023]  [Testing Loss: 0.044] \n",
            "[Epoch: 20]  [Training Loss: 0.045]  [Validing Loss: 0.022]  [Testing Loss: 0.044] \n",
            "[Epoch: 21]  [Training Loss: 0.046]  [Validing Loss: 0.022]  [Testing Loss: 0.044] \n",
            "[Epoch: 22]  [Training Loss: 0.045]  [Validing Loss: 0.023]  [Testing Loss: 0.044] \n",
            "[Epoch: 23]  [Training Loss: 0.040]  [Validing Loss: 0.025]  [Testing Loss: 0.044] \n",
            "[Epoch: 24]  [Training Loss: 0.045]  [Validing Loss: 0.022]  [Testing Loss: 0.044] \n",
            "[Epoch: 25]  [Training Loss: 0.047]  [Validing Loss: 0.021]  [Testing Loss: 0.044] \n",
            "[Epoch: 26]  [Training Loss: 0.046]  [Validing Loss: 0.023]  [Testing Loss: 0.044] \n",
            "[Epoch: 27]  [Training Loss: 0.047]  [Validing Loss: 0.024]  [Testing Loss: 0.044] \n",
            "[Epoch: 28]  [Training Loss: 0.046]  [Validing Loss: 0.022]  [Testing Loss: 0.044] \n",
            "[Epoch: 29]  [Training Loss: 0.043]  [Validing Loss: 0.024]  [Testing Loss: 0.044] \n"
          ],
          "name": "stdout"
        }
      ]
    },
    {
      "cell_type": "code",
      "metadata": {
        "id": "oo4YLqrP8iEB"
      },
      "source": [
        "img_num = 0\n",
        "for _ in range(1):\n",
        "  for img,label in dataset_val_test:\n",
        "    #save_image(img,'img'+str(img_num)+'.png')\n",
        "    img_num+=1\n",
        "    print(img.shape)"
      ],
      "execution_count": null,
      "outputs": []
    },
    {
      "cell_type": "code",
      "metadata": {
        "colab": {
          "base_uri": "https://localhost:8080/",
          "height": 279
        },
        "id": "aYuadL3QQQnU",
        "outputId": "89af30b6-0125-41a4-f295-930315ee3e57"
      },
      "source": [
        "# Graphs Losses ZoD AS\n",
        "plt.plot(train_losses_epoch, label='Training loss')\n",
        "plt.plot(val_losses_epoch, label='Validation loss')\n",
        "plt.plot(test_losses_epoch, label='Testing loss')\n",
        "plt.xlabel('Epochs')\n",
        "plt.ylabel('Loss')\n",
        "plt.grid(True)\n",
        "plt.legend()\n",
        "plt.show()"
      ],
      "execution_count": null,
      "outputs": [
        {
          "output_type": "display_data",
          "data": {
            "image/png": "[encoded data removed]",
            "text/plain": [
              "<Figure size 432x288 with 1 Axes>"
            ]
          },
          "metadata": {
            "tags": [],
            "needs_background": "light"
          }
        }
      ]
    }
  ]
}